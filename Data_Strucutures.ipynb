{
  "nbformat": 4,
  "nbformat_minor": 0,
  "metadata": {
    "colab": {
      "provenance": [],
      "collapsed_sections": [],
      "toc_visible": true,
      "authorship_tag": "ABX9TyOU5DMXjFKDCDeP7nDOEJ8h",
      "include_colab_link": true
    },
    "kernelspec": {
      "name": "python3",
      "display_name": "Python 3"
    },
    "language_info": {
      "name": "python"
    }
  },
  "cells": [
    {
      "cell_type": "markdown",
      "metadata": {
        "id": "view-in-github",
        "colab_type": "text"
      },
      "source": [
        "<a href=\"https://colab.research.google.com/github/Karenncv/Data2/blob/main/Data_Strucutures.ipynb\" target=\"_parent\"><img src=\"https://colab.research.google.com/assets/colab-badge.svg\" alt=\"Open In Colab\"/></a>"
      ]
    },
    {
      "cell_type": "markdown",
      "source": [
        "# **1. What is Data structure?**\n",
        "\n",
        "Data structure are like variable, they *save* information. the difference is that data structure can strore more than 1 value.\n",
        "\n",
        "Formally, Data structre store a **sequence** of values which can be located with an index (sciling).\n",
        "\n",
        "**Examples:**\n",
        "\n",
        "* List, Vectors and Matrices \n",
        "* Databases.   \n",
        "\n",
        "Now, basic phyton suck. It lacks specialized tools. In this case, we need to install *numpy*\n",
        "\n",
        "\n"
      ],
      "metadata": {
        "id": "_c5E0_9HTdXw"
      }
    },
    {
      "cell_type": "markdown",
      "source": [
        "# **2.liner algebra- Numpy**\n",
        "\n"
      ],
      "metadata": {
        "id": "MzoJWTBpVB5o"
      }
    },
    {
      "cell_type": "markdown",
      "source": [
        "## **2.1 What is numpy?**\n",
        "Numpy ( or numerical phyton) is a colletion of funtions and methods to handle DS.\n",
        "\n",
        "This library (downlown diferents extencions for a phyton)  works very well with other libraries and it is very popular. \n"
      ],
      "metadata": {
        "id": "t9r7AYEZWlNh"
      }
    },
    {
      "cell_type": "code",
      "source": [
        "# Install library \n",
        "\n",
        "import numpy as np\n"
      ],
      "metadata": {
        "id": "I9mbl2oTV1h_"
      },
      "execution_count": 8,
      "outputs": []
    },
    {
      "cell_type": "markdown",
      "source": [
        "## 2.2. Numpy arrays- vectors and matrices \n",
        "\n",
        "Objects arramged by row and columns. with these object you can sum and multiply \n",
        "\n",
        "*example 1:*\n",
        "\n",
        "Let be x_{1] and this a mathematical notation $x_1$ \n",
        "\n",
        "\n",
        "let $a$ be a vector with 2 rows and 1 column:\n",
        "\n",
        "\\begin{equation}\n",
        "a = \\left[\\begin{array}{c} a_{1} \\\\ a_{2} \\\\ a_{3}\n",
        "    \\end{array}\\right]\n",
        "\\end{equation} \n",
        "\n",
        "This is called a **COLUMN VECTOR**, and the dimension or shape is $(3,1)$ or $(2 \\times1)$   \n",
        "\n",
        "* the column is always firts and the rows is before \n",
        "\n",
        "*Example 2:*\n",
        "\n",
        "\\begin{equation}\n",
        "a = \\left[\\begin{array}{c} b_{1} & b_{2} & b_{3}\n",
        "    \\end{array}\\right]\n",
        "\\end{equation} \n",
        "\n",
        "This os called a **ROW VECTOR**, and the dimension or shape is $(1,3)$ or $(1 \\times3)$\n",
        "\n",
        "*Example 3:*\n",
        "\n",
        "A matrix has mre than 1 row and more tha 1 column.\n",
        "\n",
        "* Of course if the number of rows and columns are equal, its is called **squared matrix**\n",
        "\n",
        "In general, let $M$ be a matrix of dimensions $(n,m)$ or $(n\\times m)$ \n",
        "\n",
        "For the case of $n=3$ and $m=3$:\n",
        "\n",
        "\\begin{equation}\n",
        "M = \\left[\\begin{array}{c}\n",
        "m_{1,1} & m_{1,2} & m_{1,3} \\\\\n",
        "m_{2,1} & m_{2,2} & m_{2,3} \\\\\n",
        "m_{3,1} & m_{3,2} & m_{3,3} \\\\\n",
        "\\end{array}\\right]\n",
        "\\end{equation}\n",
        "\n",
        "Now all this in code "
      ],
      "metadata": {
        "id": "YVwSPGFCXYrR"
      }
    },
    {
      "cell_type": "code",
      "source": [
        "# Example- Column vector \n",
        "\n",
        "a = np.array([[4],[5],[6]])\n",
        "print(a)\n",
        "\n",
        "print(a.shape)"
      ],
      "metadata": {
        "colab": {
          "base_uri": "https://localhost:8080/"
        },
        "id": "mWRjcvIvc3RN",
        "outputId": "3f4c57cc-8608-46f8-dfdf-029de439ad1d"
      },
      "execution_count": 9,
      "outputs": [
        {
          "output_type": "stream",
          "name": "stdout",
          "text": [
            "[[4]\n",
            " [5]\n",
            " [6]]\n",
            "(3, 1)\n"
          ]
        }
      ]
    },
    {
      "cell_type": "code",
      "source": [
        "# Example- Raw vector \n",
        "\n",
        "b = np.array([[1 , 2, 3]])\n",
        "print(b)\n",
        "print(b.shape)"
      ],
      "metadata": {
        "colab": {
          "base_uri": "https://localhost:8080/"
        },
        "id": "ASAdjCwfaV3b",
        "outputId": "553da25d-83bd-4123-e3b4-a27f9b5ae5c5"
      },
      "execution_count": null,
      "outputs": [
        {
          "output_type": "stream",
          "name": "stdout",
          "text": [
            "[[1 2 3]]\n",
            "(1, 3)\n"
          ]
        }
      ]
    },
    {
      "cell_type": "code",
      "source": [
        "# Example - matrix \n",
        "\n",
        "C = np.array ([[1,2,3],\n",
        "               [4,5,6],\n",
        "               [7,8,9]])\n",
        "print(C)\n",
        "print(C.shape)"
      ],
      "metadata": {
        "colab": {
          "base_uri": "https://localhost:8080/"
        },
        "id": "lczfSnm_a0pc",
        "outputId": "ddff9a42-b2e7-4723-a255-b2e7e16740fa"
      },
      "execution_count": null,
      "outputs": [
        {
          "output_type": "stream",
          "name": "stdout",
          "text": [
            "[[1 2 3]\n",
            " [4 5 6]\n",
            " [7 8 9]]\n",
            "(3, 3)\n"
          ]
        }
      ]
    },
    {
      "cell_type": "markdown",
      "source": [
        "**A nice trick**\n"
      ],
      "metadata": {
        "id": "w_FV5QQJblPc"
      }
    },
    {
      "cell_type": "code",
      "source": [
        "# nr: stores the number of rwos \n",
        "# nc: stroes the number of colums \n",
        "\n",
        "nr, nc = C.shape"
      ],
      "metadata": {
        "id": "qxfqQqrrbxeE"
      },
      "execution_count": null,
      "outputs": []
    },
    {
      "cell_type": "markdown",
      "source": [
        "** Size of DS**\n",
        "\n",
        "In phyton, *Size*  means the **number of elements** in a DS "
      ],
      "metadata": {
        "id": "DpHAdyLIdLxQ"
      }
    },
    {
      "cell_type": "code",
      "source": [
        "C.size"
      ],
      "metadata": {
        "colab": {
          "base_uri": "https://localhost:8080/"
        },
        "id": "rNpVHXhsdcNo",
        "outputId": "a0ddb768-e691-41e1-843d-277c9386c54e"
      },
      "execution_count": null,
      "outputs": [
        {
          "output_type": "execute_result",
          "data": {
            "text/plain": [
              "9"
            ]
          },
          "metadata": {},
          "execution_count": 9
        }
      ]
    },
    {
      "cell_type": "code",
      "source": [
        "# ONE WARNING \n",
        "\n",
        "z = 2\n",
        "w = np.array ([[2]])\n",
        "print(type(z),type(w))\n",
        "z/w"
      ],
      "metadata": {
        "colab": {
          "base_uri": "https://localhost:8080/"
        },
        "id": "Btb20z2Nddth",
        "outputId": "2244ae55-c692-40a9-f6d7-9740e10c2938"
      },
      "execution_count": null,
      "outputs": [
        {
          "output_type": "stream",
          "name": "stdout",
          "text": [
            "<class 'int'> <class 'numpy.ndarray'>\n"
          ]
        },
        {
          "output_type": "execute_result",
          "data": {
            "text/plain": [
              "array([[1.]])"
            ]
          },
          "metadata": {},
          "execution_count": 11
        }
      ]
    },
    {
      "cell_type": "markdown",
      "source": [
        "## 2.3. Slicing \n",
        "\n",
        "It is the same as string wariable, onlu with minor  modifications \n",
        "\n",
        "**let´s see:** "
      ],
      "metadata": {
        "id": "3_QDRG0HeI3q"
      }
    },
    {
      "cell_type": "code",
      "source": [
        "# Extract the 1st element \n",
        "\n",
        "## Column Vector \n",
        "\n",
        "print(a[0])\n",
        "print(type(a[0]))\n",
        "\n",
        "# Depend if you want  the number int or array\n",
        "\n",
        "print(a[0,0])\n",
        "print(type(a[0,0]))\n",
        "\n",
        "## Row Vector \n",
        "print(b[0,0])\n",
        "print(type(b[0,0]))\n",
        "\n",
        "## Matrix \n",
        "print(C[1,1])"
      ],
      "metadata": {
        "colab": {
          "base_uri": "https://localhost:8080/"
        },
        "id": "mHKr6U9aedqb",
        "outputId": "6cdd0b79-431e-4e12-b87e-6eb0400ebd7c"
      },
      "execution_count": null,
      "outputs": [
        {
          "output_type": "stream",
          "name": "stdout",
          "text": [
            "[4]\n",
            "<class 'numpy.ndarray'>\n",
            "4\n",
            "<class 'numpy.int64'>\n",
            "1\n",
            "<class 'numpy.int64'>\n",
            "5\n"
          ]
        }
      ]
    },
    {
      "cell_type": "code",
      "source": [
        "from traitlets.traitlets import CComplex\n",
        "# Extract the last element\n",
        "\n",
        "print('The las element of a row vector:', b[0,-1])\n",
        "print('The las element of a column vector:', a[-1,-0])\n",
        "print('The las element of a matrix :', C[-1,-1])"
      ],
      "metadata": {
        "colab": {
          "base_uri": "https://localhost:8080/"
        },
        "id": "yFW8YP6zgTok",
        "outputId": "23ccffd0-2ba2-4786-91cf-0603552050b9"
      },
      "execution_count": null,
      "outputs": [
        {
          "output_type": "stream",
          "name": "stdout",
          "text": [
            "The las element of a row vector: 3\n",
            "The las element of a column vector: 6\n",
            "The las element of a matrix : 9\n"
          ]
        }
      ]
    },
    {
      "cell_type": "code",
      "source": [
        "# Extact a subset \n",
        "\n",
        "## Column Vector \n",
        "\n",
        "# diferent positions \n",
        "\n",
        "print(a[0:2,0]) \n",
        "\n",
        "#same positions \n",
        "\n",
        "print(a[0:2]) \n",
        "\n",
        "## Row vector \n",
        "\n",
        "print(b[0,0:2])\n",
        "\n",
        "## Matrix\n",
        "print(C[0:2,0:2])\n"
      ],
      "metadata": {
        "colab": {
          "base_uri": "https://localhost:8080/"
        },
        "id": "L0PzLRj0g5WQ",
        "outputId": "31c0a3b1-b5a7-4603-d0b1-758e06077e8c"
      },
      "execution_count": null,
      "outputs": [
        {
          "output_type": "stream",
          "name": "stdout",
          "text": [
            "[4 5]\n",
            "[[4]\n",
            " [5]]\n",
            "[1 2]\n",
            "[[1 2]\n",
            " [4 5]]\n"
          ]
        }
      ]
    },
    {
      "cell_type": "markdown",
      "source": [
        "## 2.4. Useful Methods "
      ],
      "metadata": {
        "id": "ubHjsVBqVRkQ"
      }
    },
    {
      "cell_type": "markdown",
      "source": [
        "### Zeros and Ones \n"
      ],
      "metadata": {
        "id": "cuScZT9GVpLf"
      }
    },
    {
      "cell_type": "code",
      "source": [
        "# Create a row vector of 0´s of size (1,7)\n",
        "#z1 = np.array([[0,0,0,0,0,0,0]]) this is with the array function but i can do it with this form\n",
        "\n",
        "#Zeros \n",
        "\n",
        "## One dimensional \n",
        "\n",
        "# In this case is a float number \n",
        "z1 = np.zeros(7)\n",
        "print(z1)\n",
        "\n",
        "z2 = np.zeros(7, dtype = int)\n",
        "print(z2)\n",
        "\n",
        "## Two dimensional \n",
        "\n",
        "Z1 = np.zeros((4,5))\n",
        "print(Z1)"
      ],
      "metadata": {
        "colab": {
          "base_uri": "https://localhost:8080/"
        },
        "id": "9ZUjlA4KVmiI",
        "outputId": "6abb5be6-0b3c-489c-a3fc-151984120fd2"
      },
      "execution_count": null,
      "outputs": [
        {
          "output_type": "stream",
          "name": "stdout",
          "text": [
            "[0. 0. 0. 0. 0. 0. 0.]\n",
            "[0 0 0 0 0 0 0]\n",
            "[[0. 0. 0. 0. 0.]\n",
            " [0. 0. 0. 0. 0.]\n",
            " [0. 0. 0. 0. 0.]\n",
            " [0. 0. 0. 0. 0.]]\n"
          ]
        }
      ]
    },
    {
      "cell_type": "code",
      "source": [
        "#Ones  \n",
        "\n",
        "## One dimensional \n",
        "\n",
        "# In this case is a float number \n",
        "o1 = np.ones(7)\n",
        "print(o1)\n",
        "\n",
        "o2 = np.ones(7, dtype = int)\n",
        "print(o2)\n",
        "\n",
        "## Two dimensional \n",
        "\n",
        "O1 = np.zeros((4,5))\n",
        "print(O1)"
      ],
      "metadata": {
        "colab": {
          "base_uri": "https://localhost:8080/"
        },
        "id": "sVJZgeVKX2xj",
        "outputId": "66acaeac-3b83-415c-9e6f-713d6945e65b"
      },
      "execution_count": null,
      "outputs": [
        {
          "output_type": "stream",
          "name": "stdout",
          "text": [
            "[1. 1. 1. 1. 1. 1. 1.]\n",
            "[1 1 1 1 1 1 1]\n",
            "[[0. 0. 0. 0. 0.]\n",
            " [0. 0. 0. 0. 0.]\n",
            " [0. 0. 0. 0. 0.]\n",
            " [0. 0. 0. 0. 0.]]\n"
          ]
        }
      ]
    },
    {
      "cell_type": "markdown",
      "source": [
        "### Another creation options \n",
        "\n"
      ],
      "metadata": {
        "id": "_6X9LTZjYXD6"
      }
    },
    {
      "cell_type": "code",
      "source": [
        "# Full\n",
        "\n",
        "## One dimension \n",
        "\n",
        "# The first is the numer of the elements and the second is the number that you  want see\n",
        "np.full(7,13)\n",
        "\n",
        "## two dimensions\n",
        "np.full((3,2),13)"
      ],
      "metadata": {
        "colab": {
          "base_uri": "https://localhost:8080/"
        },
        "id": "7k7ETQLKYrTJ",
        "outputId": "6726677a-1d37-4674-c43f-017346fb9502"
      },
      "execution_count": null,
      "outputs": [
        {
          "output_type": "execute_result",
          "data": {
            "text/plain": [
              "array([[13, 13],\n",
              "       [13, 13],\n",
              "       [13, 13]])"
            ]
          },
          "metadata": {},
          "execution_count": 7
        }
      ]
    },
    {
      "cell_type": "code",
      "source": [
        "# A DS with spaced values (like a sequence)\n",
        "\n",
        "## A custom sequence - only can create one dimension \n",
        "\n",
        "np.arange(6)"
      ],
      "metadata": {
        "colab": {
          "base_uri": "https://localhost:8080/"
        },
        "id": "nRQikLCmZQC4",
        "outputId": "2091c9d1-b798-47e9-940b-b538286b6f70"
      },
      "execution_count": null,
      "outputs": [
        {
          "output_type": "execute_result",
          "data": {
            "text/plain": [
              "array([0, 1, 2, 3, 4, 5])"
            ]
          },
          "metadata": {},
          "execution_count": 8
        }
      ]
    },
    {
      "cell_type": "code",
      "source": [
        "# A custom sequence - starting with a and stop at b \n",
        "\n",
        "a = 3 \n",
        "b = 25\n",
        "\n",
        "np.arange(a,b)"
      ],
      "metadata": {
        "colab": {
          "base_uri": "https://localhost:8080/"
        },
        "id": "10-MO2YNZtkB",
        "outputId": "20dcc3f3-4984-4716-ba16-08b3f993ff58"
      },
      "execution_count": null,
      "outputs": [
        {
          "output_type": "execute_result",
          "data": {
            "text/plain": [
              "array([ 3,  4,  5,  6,  7,  8,  9, 10, 11, 12, 13, 14, 15, 16, 17, 18, 19,\n",
              "       20, 21, 22, 23, 24])"
            ]
          },
          "metadata": {},
          "execution_count": 10
        }
      ]
    },
    {
      "cell_type": "code",
      "source": [
        "## A custom sequence with a set step \n",
        "\n",
        "a = 3 \n",
        "b = 25\n",
        "s = 0.25 #step \n",
        "\n",
        "np.arange(a,b,s)"
      ],
      "metadata": {
        "colab": {
          "base_uri": "https://localhost:8080/"
        },
        "id": "JWQJeFaAaE2q",
        "outputId": "7caa7e2d-8ed8-4db9-fa93-60843966d814"
      },
      "execution_count": null,
      "outputs": [
        {
          "output_type": "execute_result",
          "data": {
            "text/plain": [
              "array([ 3.  ,  3.25,  3.5 ,  3.75,  4.  ,  4.25,  4.5 ,  4.75,  5.  ,\n",
              "        5.25,  5.5 ,  5.75,  6.  ,  6.25,  6.5 ,  6.75,  7.  ,  7.25,\n",
              "        7.5 ,  7.75,  8.  ,  8.25,  8.5 ,  8.75,  9.  ,  9.25,  9.5 ,\n",
              "        9.75, 10.  , 10.25, 10.5 , 10.75, 11.  , 11.25, 11.5 , 11.75,\n",
              "       12.  , 12.25, 12.5 , 12.75, 13.  , 13.25, 13.5 , 13.75, 14.  ,\n",
              "       14.25, 14.5 , 14.75, 15.  , 15.25, 15.5 , 15.75, 16.  , 16.25,\n",
              "       16.5 , 16.75, 17.  , 17.25, 17.5 , 17.75, 18.  , 18.25, 18.5 ,\n",
              "       18.75, 19.  , 19.25, 19.5 , 19.75, 20.  , 20.25, 20.5 , 20.75,\n",
              "       21.  , 21.25, 21.5 , 21.75, 22.  , 22.25, 22.5 , 22.75, 23.  ,\n",
              "       23.25, 23.5 , 23.75, 24.  , 24.25, 24.5 , 24.75])"
            ]
          },
          "metadata": {},
          "execution_count": 13
        }
      ]
    },
    {
      "cell_type": "code",
      "source": [
        "## Linear spaces \n",
        "\n",
        "a = 1 \n",
        "b = 5 \n",
        "n = 3 \n",
        "\n",
        "np.linspace(a,b,n)\n",
        "\n",
        "np.linspace(a,b,num=n)"
      ],
      "metadata": {
        "colab": {
          "base_uri": "https://localhost:8080/"
        },
        "id": "6yGy_eBRamxg",
        "outputId": "7fd5153f-9848-4c11-e51d-687bb3a16675"
      },
      "execution_count": null,
      "outputs": [
        {
          "output_type": "execute_result",
          "data": {
            "text/plain": [
              "array([1., 3., 5.])"
            ]
          },
          "metadata": {},
          "execution_count": 23
        }
      ]
    },
    {
      "cell_type": "markdown",
      "source": [
        "### Random Numbers\n",
        "\n",
        "We are talking about probabilities, and of probabilistic distributions. \n"
      ],
      "metadata": {
        "id": "annisYCgbzra"
      }
    },
    {
      "cell_type": "markdown",
      "source": [
        "### Uniform distribution over [0,1)  \n",
        "\n",
        "the probabilities is the same in all cases "
      ],
      "metadata": {
        "id": "mw7TST_dcezY"
      }
    },
    {
      "cell_type": "code",
      "source": [
        "# A single vale \n",
        "np.random.rand()"
      ],
      "metadata": {
        "colab": {
          "base_uri": "https://localhost:8080/"
        },
        "id": "7EmmMi1Hcvb_",
        "outputId": "b9cb0b4a-fc0d-4754-ac78-679f72795a31"
      },
      "execution_count": 10,
      "outputs": [
        {
          "output_type": "execute_result",
          "data": {
            "text/plain": [
              "0.8808285271760803"
            ]
          },
          "metadata": {},
          "execution_count": 10
        }
      ]
    },
    {
      "cell_type": "code",
      "source": [
        "# Example 1 - the coin toss \n",
        "## Here we are going to simulate a coin toss \n",
        "\n",
        "if np.random.rand() <= 0.5:  \n",
        "  print('head') # if the condition is true you run head and if the condition is false you run tails (the condition is <=0.5)\n",
        "else: \n",
        "  print('tails')"
      ],
      "metadata": {
        "colab": {
          "base_uri": "https://localhost:8080/"
        },
        "id": "N0UyJZwgdGRn",
        "outputId": "271cc8ed-7bc7-48dd-82f3-6c3ae8ce241d"
      },
      "execution_count": null,
      "outputs": [
        {
          "output_type": "stream",
          "name": "stdout",
          "text": [
            "head\n"
          ]
        }
      ]
    },
    {
      "cell_type": "code",
      "source": [
        "# Example 2 - ranking \n",
        "\n",
        "## The idea is to print (low) if the number is lower  than 0.3 \n",
        "## print (Average) if is betweem 0.3 and 0.7 \n",
        "# print (high)if it is greater tha 0.7 \n",
        "\n",
        "rnd = np.random.rand() # is better for see the result \n",
        "# (or) (and) \n",
        "\n",
        "if rnd <= 0.3:  \n",
        "  print('low', rnd)\n",
        "elif rnd > 0.3 and rnd <= 0.7:\n",
        "  print('Average', rnd)\n",
        "else: \n",
        "  print('High', rnd)"
      ],
      "metadata": {
        "colab": {
          "base_uri": "https://localhost:8080/"
        },
        "id": "rMlqnaRze3SV",
        "outputId": "a39ee70a-8ac5-47a4-cd96-1dd854e318e8"
      },
      "execution_count": null,
      "outputs": [
        {
          "output_type": "stream",
          "name": "stdout",
          "text": [
            "Average 0.4943296089228921\n"
          ]
        }
      ]
    },
    {
      "cell_type": "markdown",
      "source": [
        "**Exercise**\n",
        "\n",
        "code the following game. print the 'You win!' if two coin tosses are heads and print 'You lose!' otherwise."
      ],
      "metadata": {
        "id": "S3wCIJCjhWNC"
      }
    },
    {
      "cell_type": "code",
      "source": [
        "First_attempt = np.random.rand()\n",
        "\n",
        "if First_attempt <= 0.5:\n",
        "  print('head',First_attempt)\n",
        "else: \n",
        "  print('tails',First_attempt)\n",
        "\n",
        "##Second try \n",
        "\n",
        "Second_attempt = np.random.rand()\n",
        "if Second_attempt <= 0.5: \n",
        "  print('head',Second_attempt)\n",
        "else: \n",
        "  print('tails',Second_attempt)\n",
        "\n",
        "if First_attempt <= 0.5 and Second_attempt <= 0.5:\n",
        "  \n",
        "  print('¡You win¡')\n",
        "\n",
        "else: \n",
        "  print('¡You lose¡') \n",
        "\n"
      ],
      "metadata": {
        "id": "ZyuUvgpqh2UD",
        "colab": {
          "base_uri": "https://localhost:8080/"
        },
        "outputId": "91731145-1ec9-49c9-8d5e-8a30f1604454"
      },
      "execution_count": 12,
      "outputs": [
        {
          "output_type": "stream",
          "name": "stdout",
          "text": [
            "head 0.40591838813979364\n",
            "head 0.3012443233662129\n",
            "¡You win¡\n"
          ]
        }
      ]
    },
    {
      "cell_type": "code",
      "source": [
        "# one dimensional array \n",
        "np.random.rand(4)"
      ],
      "metadata": {
        "colab": {
          "base_uri": "https://localhost:8080/"
        },
        "id": "B7sKC6g9gNDH",
        "outputId": "0ff2bdd1-9f65-4cb1-e13f-b89c9b0be3ba"
      },
      "execution_count": 13,
      "outputs": [
        {
          "output_type": "execute_result",
          "data": {
            "text/plain": [
              "array([0.2301494 , 0.55142804, 0.06973931, 0.97797219])"
            ]
          },
          "metadata": {},
          "execution_count": 13
        }
      ]
    },
    {
      "cell_type": "code",
      "source": [
        "tries = np.random.rand(2)\n",
        "results  = np.array([['Heads','Tails']])\n",
        "indx1  = int(round(tries[0],0))\n",
        "indx2  = int(round(tries[1],0))\n",
        "\n",
        "if tries[0] <= 0.5 and tries[1] <= 0.5:\n",
        "  print('head',tries[0])\n",
        "  print('head',tries[1])\n",
        "  print('¡You win¡')\n",
        "else: \n",
        "  print(results[0,indx1],tries[0])\n",
        "  print(results[0,indx2],tries[1])\n",
        "  print('¡You lose¡')\n",
        "  \n",
        "\n"
      ],
      "metadata": {
        "colab": {
          "base_uri": "https://localhost:8080/"
        },
        "id": "V6hCzy_Sg9Tw",
        "outputId": "cd16a501-224c-4e1e-ac5a-8f7d40d7e583"
      },
      "execution_count": 22,
      "outputs": [
        {
          "output_type": "stream",
          "name": "stdout",
          "text": [
            "Tails 0.7460408373818422\n",
            "Tails 0.5409900751275135\n",
            "¡You lose¡\n"
          ]
        }
      ]
    },
    {
      "cell_type": "code",
      "source": [
        "#Two dimensional arrays \n",
        "np.random.rand(7,8)"
      ],
      "metadata": {
        "colab": {
          "base_uri": "https://localhost:8080/"
        },
        "id": "u_a-h8-vjEyc",
        "outputId": "6d491804-e7f1-4d09-bc90-401c33ae6e48"
      },
      "execution_count": 21,
      "outputs": [
        {
          "output_type": "execute_result",
          "data": {
            "text/plain": [
              "array([[0.32684171, 0.65599902, 0.29652691, 0.19641177, 0.45693625,\n",
              "        0.77154384, 0.26364434, 0.25300024],\n",
              "       [0.1202631 , 0.02350958, 0.13503498, 0.37502266, 0.29876378,\n",
              "        0.55800392, 0.81541141, 0.44481596],\n",
              "       [0.90417281, 0.21774678, 0.96329103, 0.09027426, 0.93126125,\n",
              "        0.3022438 , 0.93375129, 0.97136468],\n",
              "       [0.83718608, 0.74087574, 0.4142106 , 0.56296987, 0.72353099,\n",
              "        0.46721447, 0.59899374, 0.22741108],\n",
              "       [0.56041134, 0.87891667, 0.4914023 , 0.57539546, 0.48826263,\n",
              "        0.70997379, 0.3574975 , 0.96777788],\n",
              "       [0.40304781, 0.43884632, 0.34954949, 0.62857472, 0.27831041,\n",
              "        0.26750947, 0.96496747, 0.40519281],\n",
              "       [0.79704882, 0.87184618, 0.33014313, 0.75579111, 0.63008217,\n",
              "        0.54808087, 0.39736693, 0.78263613]])"
            ]
          },
          "metadata": {},
          "execution_count": 21
        }
      ]
    },
    {
      "cell_type": "markdown",
      "source": [
        "### Uniform distribution over [a,b) \n"
      ],
      "metadata": {
        "id": "uOIZ7Nz-jtLV"
      }
    },
    {
      "cell_type": "code",
      "source": [
        "# One value \n",
        "np.random.uniform(low= 3, high= 5)"
      ],
      "metadata": {
        "colab": {
          "base_uri": "https://localhost:8080/"
        },
        "id": "_1TEGVt4j30V",
        "outputId": "80bf804b-fea0-4a53-d40a-8c20abc7cf62"
      },
      "execution_count": 24,
      "outputs": [
        {
          "output_type": "execute_result",
          "data": {
            "text/plain": [
              "3.525573461655526"
            ]
          },
          "metadata": {},
          "execution_count": 24
        }
      ]
    },
    {
      "cell_type": "code",
      "source": [
        "#One Dimensional \n",
        "np.random.uniform(low= 3, high= 5 , size = 4)\n",
        "# Very useful in simulation "
      ],
      "metadata": {
        "colab": {
          "base_uri": "https://localhost:8080/"
        },
        "id": "jVewlrPgkKe2",
        "outputId": "afa28355-de65-4534-c876-44bfbee789b8"
      },
      "execution_count": 26,
      "outputs": [
        {
          "output_type": "execute_result",
          "data": {
            "text/plain": [
              "array([3.557827  , 3.05718797, 4.75898008, 4.84723472])"
            ]
          },
          "metadata": {},
          "execution_count": 26
        }
      ]
    },
    {
      "cell_type": "code",
      "source": [
        "# Two Dimensional \n",
        "np.random.uniform(low= 3, high= 5 , size = (4,2))\n"
      ],
      "metadata": {
        "colab": {
          "base_uri": "https://localhost:8080/"
        },
        "id": "N_rktECrkaNf",
        "outputId": "a5c7f646-c128-4eca-fb3b-384d5512b390"
      },
      "execution_count": 27,
      "outputs": [
        {
          "output_type": "execute_result",
          "data": {
            "text/plain": [
              "array([[4.13392629, 4.6968392 ],\n",
              "       [4.62228588, 3.34129947],\n",
              "       [4.76694405, 4.93919307],\n",
              "       [4.24683261, 4.64131837]])"
            ]
          },
          "metadata": {},
          "execution_count": 27
        }
      ]
    },
    {
      "cell_type": "markdown",
      "source": [
        "### Normal Distribution "
      ],
      "metadata": {
        "id": "V5oC-Dg6kqj3"
      }
    },
    {
      "cell_type": "code",
      "source": [
        "# Standar Normal -N ~(0,1)\n",
        "np.random.randn()\n",
        "np.random.randn(5) # One dimension\n",
        "np.random.randn(3,5) #Two dimension"
      ],
      "metadata": {
        "colab": {
          "base_uri": "https://localhost:8080/"
        },
        "id": "qVo0hCpokxjo",
        "outputId": "05c06741-4849-4d3d-ece8-5e64572d8e0e"
      },
      "execution_count": 34,
      "outputs": [
        {
          "output_type": "execute_result",
          "data": {
            "text/plain": [
              "array([[ 2.12129481, -1.65781924,  0.67131034,  1.43829376,  0.67637156],\n",
              "       [ 0.2879207 ,  1.63485078, -0.03524123, -0.43109255,  1.14831876],\n",
              "       [-0.96028193, -0.35442111, -0.30815711, -1.29042161,  0.40107349]])"
            ]
          },
          "metadata": {},
          "execution_count": 34
        }
      ]
    },
    {
      "cell_type": "code",
      "source": [
        "# Normal -N ~(mu , sigma)\n",
        "\n",
        "mu = 0.001  # Mean \n",
        "sigma = 0.1  # std. deviation \n",
        "np.random.normal(mu, sigma)\n",
        "np.random.normal(mu, sigma, size = 5)\n",
        "np.random.normal(mu, sigma, size = (3,1))"
      ],
      "metadata": {
        "colab": {
          "base_uri": "https://localhost:8080/"
        },
        "id": "JNKnqGDtl3mZ",
        "outputId": "4779eb46-b434-4da8-ef87-fa00ba4887e4"
      },
      "execution_count": 38,
      "outputs": [
        {
          "output_type": "execute_result",
          "data": {
            "text/plain": [
              "array([[-0.01002047],\n",
              "       [-0.11767405],\n",
              "       [-0.12675246]])"
            ]
          },
          "metadata": {},
          "execution_count": 38
        }
      ]
    },
    {
      "cell_type": "markdown",
      "source": [
        "### Random Integer "
      ],
      "metadata": {
        "id": "hCirDgamms_C"
      }
    },
    {
      "cell_type": "code",
      "source": [
        "np.random.randint(low = 0, high = 10) # One value "
      ],
      "metadata": {
        "colab": {
          "base_uri": "https://localhost:8080/"
        },
        "id": "ap4djOHemuoq",
        "outputId": "a0592b53-c127-4ab8-a255-30283ec447ee"
      },
      "execution_count": 40,
      "outputs": [
        {
          "output_type": "execute_result",
          "data": {
            "text/plain": [
              "2"
            ]
          },
          "metadata": {},
          "execution_count": 40
        }
      ]
    },
    {
      "cell_type": "code",
      "source": [
        "np.random.randint(low = 0, high = 10, size = 5) #One dimension "
      ],
      "metadata": {
        "colab": {
          "base_uri": "https://localhost:8080/"
        },
        "id": "JMkB1Q53m1na",
        "outputId": "87d6efb9-7082-477a-98af-3368b153b3d4"
      },
      "execution_count": 41,
      "outputs": [
        {
          "output_type": "execute_result",
          "data": {
            "text/plain": [
              "array([7, 1, 2, 7, 7])"
            ]
          },
          "metadata": {},
          "execution_count": 41
        }
      ]
    },
    {
      "cell_type": "code",
      "source": [
        "np.random.randint(low = 0, high = 10, size = (5,2)) # Two dimension "
      ],
      "metadata": {
        "colab": {
          "base_uri": "https://localhost:8080/"
        },
        "id": "DUPdJTXAnCQj",
        "outputId": "4f9ac841-144f-4da3-e555-dcce13bb595b"
      },
      "execution_count": 42,
      "outputs": [
        {
          "output_type": "execute_result",
          "data": {
            "text/plain": [
              "array([[9, 2],\n",
              "       [3, 2],\n",
              "       [9, 8],\n",
              "       [1, 1],\n",
              "       [4, 6]])"
            ]
          },
          "metadata": {},
          "execution_count": 42
        }
      ]
    }
  ]
}