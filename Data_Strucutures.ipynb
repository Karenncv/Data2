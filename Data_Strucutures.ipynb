{
  "nbformat": 4,
  "nbformat_minor": 0,
  "metadata": {
    "colab": {
      "provenance": [],
      "collapsed_sections": [],
      "toc_visible": true,
      "authorship_tag": "ABX9TyP8UY1IgEJpkhTP8DLMTF4j",
      "include_colab_link": true
    },
    "kernelspec": {
      "name": "python3",
      "display_name": "Python 3"
    },
    "language_info": {
      "name": "python"
    }
  },
  "cells": [
    {
      "cell_type": "markdown",
      "metadata": {
        "id": "view-in-github",
        "colab_type": "text"
      },
      "source": [
        "<a href=\"https://colab.research.google.com/github/Karenncv/Data2/blob/main/Data_Strucutures.ipynb\" target=\"_parent\"><img src=\"https://colab.research.google.com/assets/colab-badge.svg\" alt=\"Open In Colab\"/></a>"
      ]
    },
    {
      "cell_type": "markdown",
      "source": [
        "# **1. What is Data structure?**\n",
        "\n",
        "Data structure are like variable, they *save* information. the difference is that data structure can strore more than 1 value.\n",
        "\n",
        "Formally, Data structre store a **sequence** of values which can be located with an index (sciling).\n",
        "\n",
        "**Examples:**\n",
        "\n",
        "* List, Vectors and Matrices \n",
        "* Databases.   \n",
        "\n",
        "Now, basic phyton suck. It lacks specialized tools. In this case, we need to install *numpy*\n",
        "\n",
        "\n"
      ],
      "metadata": {
        "id": "_c5E0_9HTdXw"
      }
    },
    {
      "cell_type": "markdown",
      "source": [
        "# **2.liner algebra- Numpy**\n",
        "\n"
      ],
      "metadata": {
        "id": "MzoJWTBpVB5o"
      }
    },
    {
      "cell_type": "markdown",
      "source": [
        "## **2.1 What is numpy?**\n",
        "Numpy ( or numerical phyton) is a colletion of funtions and methods to handle DS.\n",
        "\n",
        "This library (downlown diferents extencions for a phyton)  works very well with other libraries and it is very popular. \n"
      ],
      "metadata": {
        "id": "t9r7AYEZWlNh"
      }
    },
    {
      "cell_type": "code",
      "source": [
        "# Install library \n",
        "\n",
        "import numpy as np\n"
      ],
      "metadata": {
        "id": "I9mbl2oTV1h_"
      },
      "execution_count": 2,
      "outputs": []
    },
    {
      "cell_type": "markdown",
      "source": [
        "## 2.2. Numpy arrays- vectors and matrices \n",
        "\n",
        "Objects arramged by row and columns. with these object you can sum and multiply \n",
        "\n",
        "*example 1:*\n",
        "\n",
        "Let be x_{1] and this a mathematical notation $x_1$ \n",
        "\n",
        "\n",
        "let $a$ be a vector with 2 rows and 1 column:\n",
        "\n",
        "\\begin{equation}\n",
        "a = \\left[\\begin{array}{c} a_{1} \\\\ a_{2} \\\\ a_{3}\n",
        "    \\end{array}\\right]\n",
        "\\end{equation} \n",
        "\n",
        "This is called a **COLUMN VECTOR**, and the dimension or shape is $(3,1)$ or $(2 \\times1)$   \n",
        "\n",
        "* the column is always firts and the rows is before \n",
        "\n",
        "*Example 2:*\n",
        "\n",
        "\\begin{equation}\n",
        "a = \\left[\\begin{array}{c} b_{1} & b_{2} & b_{3}\n",
        "    \\end{array}\\right]\n",
        "\\end{equation} \n",
        "\n",
        "This os called a **ROW VECTOR**, and the dimension or shape is $(1,3)$ or $(1 \\times3)$\n",
        "\n",
        "*Example 3:*\n",
        "\n",
        "A matrix has mre than 1 row and more tha 1 column.\n",
        "\n",
        "* Of course if the number of rows and columns are equal, its is called **squared matrix**\n",
        "\n",
        "In general, let $M$ be a matrix of dimensions $(n,m)$ or $(n\\times m)$ \n",
        "\n",
        "For the case of $n=3$ and $m=3$:\n",
        "\n",
        "\\begin{equation}\n",
        "M = \\left[\\begin{array}{c}\n",
        "m_{1,1} & m_{1,2} & m_{1,3} \\\\\n",
        "m_{2,1} & m_{2,2} & m_{2,3} \\\\\n",
        "m_{3,1} & m_{3,2} & m_{3,3} \\\\\n",
        "\\end{array}\\right]\n",
        "\\end{equation}\n",
        "\n",
        "Now all this in code "
      ],
      "metadata": {
        "id": "YVwSPGFCXYrR"
      }
    },
    {
      "cell_type": "code",
      "source": [
        "# Example- Column vector \n",
        "\n",
        "a = np.array([[4],[5],[6]])\n",
        "print(a)\n",
        "\n",
        "print(a.shape)"
      ],
      "metadata": {
        "colab": {
          "base_uri": "https://localhost:8080/"
        },
        "id": "mWRjcvIvc3RN",
        "outputId": "6f0718fe-56af-4b36-d0bf-22782a15d04f"
      },
      "execution_count": 5,
      "outputs": [
        {
          "output_type": "stream",
          "name": "stdout",
          "text": [
            "[[4]\n",
            " [5]\n",
            " [6]]\n",
            "(3, 1)\n"
          ]
        }
      ]
    }
  ]
}