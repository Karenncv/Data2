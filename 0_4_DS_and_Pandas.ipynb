{
  "nbformat": 4,
  "nbformat_minor": 0,
  "metadata": {
    "colab": {
      "provenance": [],
      "collapsed_sections": [],
      "toc_visible": true,
      "authorship_tag": "ABX9TyNEhC4ib5PfD0N0DtV2khtX",
      "include_colab_link": true
    },
    "kernelspec": {
      "name": "python3",
      "display_name": "Python 3"
    },
    "language_info": {
      "name": "python"
    }
  },
  "cells": [
    {
      "cell_type": "markdown",
      "metadata": {
        "id": "view-in-github",
        "colab_type": "text"
      },
      "source": [
        "<a href=\"https://colab.research.google.com/github/Karenncv/Data2/blob/main/0_4_DS_and_Pandas.ipynb\" target=\"_parent\"><img src=\"https://colab.research.google.com/assets/colab-badge.svg\" alt=\"Open In Colab\"/></a>"
      ]
    },
    {
      "cell_type": "markdown",
      "source": [
        "# **1. Data structure and Pandas:**\n",
        "\n",
        "`numpy` is for vector and matrices (`arrays`).\n",
        "\n",
        "`pandas` is a library to work with databases (data with relations and conections). In practical terms, `pandas` is the excel of phyton. \n",
        "\n",
        "**You can work with `numpy` and `pandas` at the same time.** \n"
      ],
      "metadata": {
        "id": "Veb1s41Hk7Mo"
      }
    },
    {
      "cell_type": "code",
      "source": [
        "import pandas as pd \n",
        "import numpy as np "
      ],
      "metadata": {
        "id": "fTID4QlYmb6h"
      },
      "execution_count": 1,
      "outputs": []
    },
    {
      "cell_type": "markdown",
      "source": [
        "# **2. Pandas Series:**\n",
        "\n",
        "A series (in pandas) is a one-dimensional object "
      ],
      "metadata": {
        "id": "k6v31swSmkkJ"
      }
    },
    {
      "cell_type": "markdown",
      "source": [
        "## 2.1 Series Creation"
      ],
      "metadata": {
        "id": "D55IZlW7nGTy"
      }
    },
    {
      "cell_type": "code",
      "source": [
        "# Empty series \n",
        "\n",
        "s_empty = pd.Series()\n",
        "print(s_empty)"
      ],
      "metadata": {
        "colab": {
          "base_uri": "https://localhost:8080/"
        },
        "id": "GPgoWla7nHlS",
        "outputId": "088c0f72-cf9d-4212-a2bc-852c05855d54"
      },
      "execution_count": null,
      "outputs": [
        {
          "output_type": "stream",
          "name": "stdout",
          "text": [
            "Series([], dtype: float64)\n"
          ]
        },
        {
          "output_type": "stream",
          "name": "stderr",
          "text": [
            "/usr/local/lib/python3.7/dist-packages/ipykernel_launcher.py:3: DeprecationWarning: The default dtype for empty Series will be 'object' instead of 'float64' in a future version. Specify a dtype explicitly to silence this warning.\n",
            "  This is separate from the ipykernel package so we can avoid doing imports until\n"
          ]
        }
      ]
    },
    {
      "cell_type": "code",
      "source": [
        "# Creating a Series - typing the values \n",
        "## int values \n",
        "\n",
        "s_int = pd.Series([1,2,3,4,5,6,7])\n",
        "print(s_int)"
      ],
      "metadata": {
        "colab": {
          "base_uri": "https://localhost:8080/"
        },
        "id": "NvhlMNbXnfVy",
        "outputId": "2799c564-1664-42f2-c70c-d4c542632908"
      },
      "execution_count": null,
      "outputs": [
        {
          "output_type": "stream",
          "name": "stdout",
          "text": [
            "0    1\n",
            "1    2\n",
            "2    3\n",
            "3    4\n",
            "4    5\n",
            "5    6\n",
            "6    7\n",
            "dtype: int64\n"
          ]
        }
      ]
    },
    {
      "cell_type": "code",
      "source": [
        "# Creating a Series - Using random numbers\n",
        "## Float Values \n",
        "\n",
        "s_num = pd.Series(np.random.rand(8))\n",
        "print(s_num)\n",
        "\n"
      ],
      "metadata": {
        "colab": {
          "base_uri": "https://localhost:8080/"
        },
        "id": "dmJJsXmvozjG",
        "outputId": "314b679e-6ff9-4c4a-b0ef-efb1d9e17193"
      },
      "execution_count": 5,
      "outputs": [
        {
          "output_type": "stream",
          "name": "stdout",
          "text": [
            "0    0.065362\n",
            "1    0.021988\n",
            "2    0.305143\n",
            "3    0.530802\n",
            "4    0.769098\n",
            "5    0.971547\n",
            "6    0.100884\n",
            "7    0.367450\n",
            "dtype: float64\n"
          ]
        }
      ]
    },
    {
      "cell_type": "code",
      "source": [
        "# Creating a Series\n",
        "## with str\n",
        "\n",
        "s_str = pd.Series(['Valentina', 'Ashly','Alice','Cristian','Karen','Rodrigo'])\n",
        "print(s_str)"
      ],
      "metadata": {
        "colab": {
          "base_uri": "https://localhost:8080/"
        },
        "id": "Nx2f1girn2pz",
        "outputId": "bc693d5e-d1e8-4dc0-c600-815bfcb63226"
      },
      "execution_count": 2,
      "outputs": [
        {
          "output_type": "stream",
          "name": "stdout",
          "text": [
            "0    Valentina\n",
            "1        Ashly\n",
            "2        Alice\n",
            "3     Cristian\n",
            "4        Karen\n",
            "5      Rodrigo\n",
            "dtype: object\n"
          ]
        }
      ]
    },
    {
      "cell_type": "code",
      "source": [
        "# Creating a Series\n",
        "\n",
        "tmp = pd.Series([1, 0.2548, 'Python'])\n",
        "print(tmp)"
      ],
      "metadata": {
        "colab": {
          "base_uri": "https://localhost:8080/"
        },
        "id": "FQJ58TxfoA-B",
        "outputId": "2359dc17-332a-42f8-cb52-3239f2aef729"
      },
      "execution_count": 3,
      "outputs": [
        {
          "output_type": "stream",
          "name": "stdout",
          "text": [
            "0         1\n",
            "1    0.2548\n",
            "2    Python\n",
            "dtype: object\n"
          ]
        }
      ]
    },
    {
      "cell_type": "markdown",
      "source": [
        "## 2.2 Indexing "
      ],
      "metadata": {
        "id": "PCvwDQgRoLXh"
      }
    },
    {
      "cell_type": "code",
      "source": [
        "# Check the index of a series\n",
        "\n",
        "s_num.index"
      ],
      "metadata": {
        "colab": {
          "base_uri": "https://localhost:8080/"
        },
        "id": "E34FXrTyoWE9",
        "outputId": "b3c22cf8-d5fc-448c-d2ca-a03952ef514a"
      },
      "execution_count": 6,
      "outputs": [
        {
          "output_type": "execute_result",
          "data": {
            "text/plain": [
              "RangeIndex(start=0, stop=8, step=1)"
            ]
          },
          "metadata": {},
          "execution_count": 6
        }
      ]
    },
    {
      "cell_type": "code",
      "source": [
        "# Create your own index\n",
        "\n",
        "new_index = ['i','ii','iii','iv']\n",
        "s_ran = pd.Series(np.random.rand(4), index = new_index)\n",
        "print(s_ran)\n",
        "s_ran.index"
      ],
      "metadata": {
        "colab": {
          "base_uri": "https://localhost:8080/"
        },
        "id": "MRBzhVtdoky9",
        "outputId": "881f328e-93f4-4217-ab52-bb11c7315f72"
      },
      "execution_count": 7,
      "outputs": [
        {
          "output_type": "stream",
          "name": "stdout",
          "text": [
            "i      0.678475\n",
            "ii     0.278063\n",
            "iii    0.718495\n",
            "iv     0.300616\n",
            "dtype: float64\n"
          ]
        },
        {
          "output_type": "execute_result",
          "data": {
            "text/plain": [
              "Index(['i', 'ii', 'iii', 'iv'], dtype='object')"
            ]
          },
          "metadata": {},
          "execution_count": 7
        }
      ]
    },
    {
      "cell_type": "markdown",
      "source": [
        "## 2.3 Selecting and slicing\n",
        "\n",
        "Remember that series are one-dimensional objects, so we only need one number to identify an element\n"
      ],
      "metadata": {
        "id": "iXkJw8mWovJt"
      }
    },
    {
      "cell_type": "code",
      "source": [
        "# Selecting one value\n",
        "\n",
        "print('The first element of s_num:',s_num[0])\n",
        "print('The first element of s_ran:',s_ran[0])\n",
        "print('The first element of s_ran:',s_ran['i'])"
      ],
      "metadata": {
        "colab": {
          "base_uri": "https://localhost:8080/"
        },
        "id": "YK12Ngx8pB-W",
        "outputId": "422f996e-560e-4c09-ff64-613c82704384"
      },
      "execution_count": 8,
      "outputs": [
        {
          "output_type": "stream",
          "name": "stdout",
          "text": [
            "The first element of s_num: 0.0653621685186434\n",
            "The first element of s_ran: 0.678474726178084\n",
            "The first element of s_ran: 0.678474726178084\n"
          ]
        }
      ]
    },
    {
      "cell_type": "code",
      "source": [
        "# Selecting more than one value\n",
        "\n",
        "s_num[[5,7]] # this selects the 5th and 8th element"
      ],
      "metadata": {
        "colab": {
          "base_uri": "https://localhost:8080/"
        },
        "id": "rjwjvAwhpB6v",
        "outputId": "39693989-6ac4-4180-ec60-cd173052d3dd"
      },
      "execution_count": 9,
      "outputs": [
        {
          "output_type": "execute_result",
          "data": {
            "text/plain": [
              "5    0.971547\n",
              "7    0.367450\n",
              "dtype: float64"
            ]
          },
          "metadata": {},
          "execution_count": 9
        }
      ]
    },
    {
      "cell_type": "code",
      "source": [
        "# Selecting more than one value\n",
        "\n",
        "s_ran[['i','iv']] # this selects the 1st and 4th element"
      ],
      "metadata": {
        "colab": {
          "base_uri": "https://localhost:8080/"
        },
        "id": "s2AuSWTUpNdl",
        "outputId": "2fd80848-190b-4b13-db1a-5ddf388a3e8d"
      },
      "execution_count": 10,
      "outputs": [
        {
          "output_type": "execute_result",
          "data": {
            "text/plain": [
              "i     0.678475\n",
              "iv    0.300616\n",
              "dtype: float64"
            ]
          },
          "metadata": {},
          "execution_count": 10
        }
      ]
    },
    {
      "cell_type": "code",
      "source": [
        "# Selecting a sequence of values\n",
        "\n",
        "print(s_num[:3])"
      ],
      "metadata": {
        "colab": {
          "base_uri": "https://localhost:8080/"
        },
        "id": "Qybu6I6BpPyn",
        "outputId": "d12d5208-2ff7-45f2-cb35-c69167113649"
      },
      "execution_count": 11,
      "outputs": [
        {
          "output_type": "stream",
          "name": "stdout",
          "text": [
            "0    0.065362\n",
            "1    0.021988\n",
            "2    0.305143\n",
            "dtype: float64\n"
          ]
        }
      ]
    },
    {
      "cell_type": "code",
      "source": [
        "# Change a value\n",
        "\n",
        "s_num[0] = 100 # chaning the first element of s_num\n",
        "print(s_num)"
      ],
      "metadata": {
        "colab": {
          "base_uri": "https://localhost:8080/"
        },
        "id": "rDwDqJOUpUj5",
        "outputId": "65cd8e44-e537-4cb4-b45d-a0fb542336e0"
      },
      "execution_count": 12,
      "outputs": [
        {
          "output_type": "stream",
          "name": "stdout",
          "text": [
            "0    100.000000\n",
            "1      0.021988\n",
            "2      0.305143\n",
            "3      0.530802\n",
            "4      0.769098\n",
            "5      0.971547\n",
            "6      0.100884\n",
            "7      0.367450\n",
            "dtype: float64\n"
          ]
        }
      ]
    },
    {
      "cell_type": "markdown",
      "source": [
        "## 2.4 Operations "
      ],
      "metadata": {
        "id": "JuszplIDpdPo"
      }
    },
    {
      "cell_type": "code",
      "source": [
        "# Basic operations - element wise\n",
        "\n",
        "## Addtion\n",
        "s_num + 2\n",
        "\n",
        "## Substraction\n",
        "s_num - 3\n",
        "\n",
        "## Mutliplication\n",
        "s_num * 4\n",
        "\n",
        "## Division\n",
        "s_num / 5\n",
        "\n",
        "## Exponentiation\n",
        "s_num ** 2\n",
        "\n",
        "## Special\n",
        "np.exp(s_num)\n",
        "np.log(s_num)"
      ],
      "metadata": {
        "colab": {
          "base_uri": "https://localhost:8080/"
        },
        "id": "l7bg0X3xpj0Y",
        "outputId": "435fb9a3-af7d-4763-fac5-d0e7f5e2875f"
      },
      "execution_count": 13,
      "outputs": [
        {
          "output_type": "execute_result",
          "data": {
            "text/plain": [
              "0    4.605170\n",
              "1   -3.817271\n",
              "2   -1.186976\n",
              "3   -0.633366\n",
              "4   -0.262537\n",
              "5   -0.028866\n",
              "6   -2.293788\n",
              "7   -1.001168\n",
              "dtype: float64"
            ]
          },
          "metadata": {},
          "execution_count": 13
        }
      ]
    },
    {
      "cell_type": "markdown",
      "source": [
        "# 3. Panda Time-Series\n",
        "It is a very special object because is that the index are dates."
      ],
      "metadata": {
        "id": "FDK_Y2dUprNL"
      }
    },
    {
      "cell_type": "markdown",
      "source": [
        "## 3.1 Indexing Pandas Time-Series "
      ],
      "metadata": {
        "id": "GIgPr2abp6_c"
      }
    },
    {
      "cell_type": "code",
      "source": [
        "# Create a date range\n",
        "\n",
        "pd.date_range(start = '01/01/2022', end = '28/09/2022')"
      ],
      "metadata": {
        "colab": {
          "base_uri": "https://localhost:8080/"
        },
        "id": "YmvvliiaqIN8",
        "outputId": "fad4af56-9046-4232-d9a7-887bd7a2f579"
      },
      "execution_count": 14,
      "outputs": [
        {
          "output_type": "execute_result",
          "data": {
            "text/plain": [
              "DatetimeIndex(['2022-01-01', '2022-01-02', '2022-01-03', '2022-01-04',\n",
              "               '2022-01-05', '2022-01-06', '2022-01-07', '2022-01-08',\n",
              "               '2022-01-09', '2022-01-10',\n",
              "               ...\n",
              "               '2022-09-19', '2022-09-20', '2022-09-21', '2022-09-22',\n",
              "               '2022-09-23', '2022-09-24', '2022-09-25', '2022-09-26',\n",
              "               '2022-09-27', '2022-09-28'],\n",
              "              dtype='datetime64[ns]', length=271, freq='D')"
            ]
          },
          "metadata": {},
          "execution_count": 14
        }
      ]
    },
    {
      "cell_type": "code",
      "source": [
        "# Create a date range\n",
        "\n",
        "pd.date_range(start = '01/01/2022', periods = 35)"
      ],
      "metadata": {
        "colab": {
          "base_uri": "https://localhost:8080/"
        },
        "id": "AdeSFFveqJ34",
        "outputId": "46248772-35ba-40b0-944f-35a6ab716543"
      },
      "execution_count": 15,
      "outputs": [
        {
          "output_type": "execute_result",
          "data": {
            "text/plain": [
              "DatetimeIndex(['2022-01-01', '2022-01-02', '2022-01-03', '2022-01-04',\n",
              "               '2022-01-05', '2022-01-06', '2022-01-07', '2022-01-08',\n",
              "               '2022-01-09', '2022-01-10', '2022-01-11', '2022-01-12',\n",
              "               '2022-01-13', '2022-01-14', '2022-01-15', '2022-01-16',\n",
              "               '2022-01-17', '2022-01-18', '2022-01-19', '2022-01-20',\n",
              "               '2022-01-21', '2022-01-22', '2022-01-23', '2022-01-24',\n",
              "               '2022-01-25', '2022-01-26', '2022-01-27', '2022-01-28',\n",
              "               '2022-01-29', '2022-01-30', '2022-01-31', '2022-02-01',\n",
              "               '2022-02-02', '2022-02-03', '2022-02-04'],\n",
              "              dtype='datetime64[ns]', freq='D')"
            ]
          },
          "metadata": {},
          "execution_count": 15
        }
      ]
    },
    {
      "cell_type": "code",
      "source": [
        "# Create a date range\n",
        "\n",
        "pd.date_range(end = '28/09/2022', periods = 23, freq = 'D')"
      ],
      "metadata": {
        "colab": {
          "base_uri": "https://localhost:8080/"
        },
        "id": "Wb-tUckrqOmr",
        "outputId": "de93816b-6b0f-41a8-a3a7-6a99797d359b"
      },
      "execution_count": 16,
      "outputs": [
        {
          "output_type": "execute_result",
          "data": {
            "text/plain": [
              "DatetimeIndex(['2022-09-06', '2022-09-07', '2022-09-08', '2022-09-09',\n",
              "               '2022-09-10', '2022-09-11', '2022-09-12', '2022-09-13',\n",
              "               '2022-09-14', '2022-09-15', '2022-09-16', '2022-09-17',\n",
              "               '2022-09-18', '2022-09-19', '2022-09-20', '2022-09-21',\n",
              "               '2022-09-22', '2022-09-23', '2022-09-24', '2022-09-25',\n",
              "               '2022-09-26', '2022-09-27', '2022-09-28'],\n",
              "              dtype='datetime64[ns]', freq='D')"
            ]
          },
          "metadata": {},
          "execution_count": 16
        }
      ]
    },
    {
      "cell_type": "markdown",
      "source": [
        "If I need a different frequency:\n",
        "\n",
        "* H - hourly\n",
        "* M - end of the month\n",
        "* MS - start of the month\n",
        "* XM - 2M\n",
        "* XMS - 2MS\n",
        "* Q - end of the quarter\n",
        "* QS - start of the quarter\n",
        "* A or Y - end of the year\n",
        "* AS or YS - start of the year"
      ],
      "metadata": {
        "id": "jpQ_aPPAqa0h"
      }
    },
    {
      "cell_type": "code",
      "source": [
        "pd.date_range(start = '28/09/2022', periods = 37, freq = 'M')"
      ],
      "metadata": {
        "colab": {
          "base_uri": "https://localhost:8080/"
        },
        "id": "Wi7PL6cSqwYt",
        "outputId": "b6a050fc-2ee8-4b3d-ba22-6f24b57096be"
      },
      "execution_count": 17,
      "outputs": [
        {
          "output_type": "execute_result",
          "data": {
            "text/plain": [
              "DatetimeIndex(['2022-09-30', '2022-10-31', '2022-11-30', '2022-12-31',\n",
              "               '2023-01-31', '2023-02-28', '2023-03-31', '2023-04-30',\n",
              "               '2023-05-31', '2023-06-30', '2023-07-31', '2023-08-31',\n",
              "               '2023-09-30', '2023-10-31', '2023-11-30', '2023-12-31',\n",
              "               '2024-01-31', '2024-02-29', '2024-03-31', '2024-04-30',\n",
              "               '2024-05-31', '2024-06-30', '2024-07-31', '2024-08-31',\n",
              "               '2024-09-30', '2024-10-31', '2024-11-30', '2024-12-31',\n",
              "               '2025-01-31', '2025-02-28', '2025-03-31', '2025-04-30',\n",
              "               '2025-05-31', '2025-06-30', '2025-07-31', '2025-08-31',\n",
              "               '2025-09-30'],\n",
              "              dtype='datetime64[ns]', freq='M')"
            ]
          },
          "metadata": {},
          "execution_count": 17
        }
      ]
    },
    {
      "cell_type": "markdown",
      "source": [
        "## 3.2. Assign a time-series index"
      ],
      "metadata": {
        "id": "S0CVNE-fq0Y7"
      }
    },
    {
      "cell_type": "code",
      "source": [
        "# Create a Series\n",
        "# How do I get append or assign dates?\n",
        "my_dates = pd.date_range(start = '26/09/2022', end = '30/09/2022')\n",
        "\n",
        "s_sales = pd.Series(np.random.randint(low = 100, high = 300, size = 5),\n",
        "                    index = my_dates) # this is the data for sales\n",
        "print(s_sales)"
      ],
      "metadata": {
        "colab": {
          "base_uri": "https://localhost:8080/"
        },
        "id": "4YgAmd2nrGBh",
        "outputId": "c7e6a0fd-4056-4ab7-a2fe-e2915b6e2cdb"
      },
      "execution_count": 18,
      "outputs": [
        {
          "output_type": "stream",
          "name": "stdout",
          "text": [
            "2022-09-26    246\n",
            "2022-09-27    193\n",
            "2022-09-28    118\n",
            "2022-09-29    264\n",
            "2022-09-30    251\n",
            "Freq: D, dtype: int64\n"
          ]
        }
      ]
    }
  ]
}