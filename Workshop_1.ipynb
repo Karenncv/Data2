{
  "nbformat": 4,
  "nbformat_minor": 0,
  "metadata": {
    "colab": {
      "name": "Workshop 1.ipynb",
      "provenance": [],
      "toc_visible": true,
      "include_colab_link": true
    },
    "kernelspec": {
      "name": "python3",
      "display_name": "Python 3"
    },
    "language_info": {
      "name": "python"
    }
  },
  "cells": [
    {
      "cell_type": "markdown",
      "metadata": {
        "id": "view-in-github",
        "colab_type": "text"
      },
      "source": [
        "<a href=\"https://colab.research.google.com/github/Karenncv/Data2/blob/main/Workshop_1.ipynb\" target=\"_parent\"><img src=\"https://colab.research.google.com/assets/colab-badge.svg\" alt=\"Open In Colab\"/></a>"
      ]
    },
    {
      "cell_type": "markdown",
      "source": [
        "<h1 align = \"center\">\n",
        "<strong> Universidad de La Salle </strong>\n",
        "</h1>\n",
        "\n",
        "<h1 align = \"center\">\n",
        "<strong> Finance and International Commerce Program </strong>\n",
        "</h1>\n",
        "\n",
        "<h1 align = \"center\">\n",
        "<strong> Data Visualization - Workshop 1 </strong>\n",
        "</h1>\n"
      ],
      "metadata": {
        "id": "BJolccUZSw9G"
      }
    },
    {
      "cell_type": "markdown",
      "source": [
        "# **Instructions**\n",
        "\n",
        "1. Please read carefully the document. Ask all the questions you may have.\n",
        "2. Save this file in your Google Drive.\n",
        "3. DO NOT alter any cell unless it specifically ask you to do it.\n",
        "4. You will have **two hours** (until 11am) maximum to finish and deliver this workshop.\n",
        "5. You can use any help you want: your notes, your codes, internet, classmates.\n",
        "6. Nevertheless, the workshop must be presented individually.\n",
        "7. Once you have finish, save a copy in your GitHub class repository.\n",
        "8. The deliver process is as follows:\n",
        "    \n",
        "    8.1. Via email you will send the link to the GitHub location.\n",
        "    \n",
        "    8.2. In the same mail, just for safety, you will attach a copy of your `.ipynb` file.\n",
        "    \n",
        "    8.3. The email must have the subject: \"W1 DV\".   "
      ],
      "metadata": {
        "id": "pLRc5RAyWsre"
      }
    },
    {
      "cell_type": "markdown",
      "source": [
        "# **To keep in mind**\n",
        "\n",
        "* The excercises propouse are intended to **push** you a little futher in your Pyton skills.\n",
        "* This means that there are going to be exercises above the level seen in class.\n",
        "* The idea is to incentive your creative thinking and solving problem skills.\n",
        "* As always there several ways to do the excersice. But in this case, I ask you to use only the tools we learned.\n",
        "* I ask you to trust me. Give your best effort. Grades do not matter here. "
      ],
      "metadata": {
        "id": "4QKdNKujZEbk"
      }
    },
    {
      "cell_type": "markdown",
      "source": [
        "# **Exercise Set**"
      ],
      "metadata": {
        "id": "2kRoSKUmaGl9"
      }
    },
    {
      "cell_type": "markdown",
      "source": [
        "## Ex 1.\n",
        "\n",
        "In the cell code below, first create a variable with your full name then write the appropiate code, using *sciling*, to print your full name as this:\n",
        "\n",
        "`First Name: José` &nbsp;   &nbsp;   &nbsp;   &nbsp;   &nbsp; `Middle Name: Rodrigo`\n",
        "\n",
        "`First Last  Name: Vélez` &nbsp;   &nbsp;   &nbsp;   &nbsp;   &nbsp; `Second Last Name: Molano`"
      ],
      "metadata": {
        "id": "LAdWe8iEaL7B"
      }
    },
    {
      "cell_type": "code",
      "execution_count": 36,
      "metadata": {
        "id": "rw792kISSt3n",
        "colab": {
          "base_uri": "https://localhost:8080/"
        },
        "outputId": "f869a88e-7529-401d-f876-f316c5e29e68"
      },
      "outputs": [
        {
          "output_type": "stream",
          "name": "stdout",
          "text": [
            "First Name: Karen \tMiddle Name: Dayan\n",
            "First Last Name:  Caicedo \tSecond Last Name:  Vargas\n"
          ]
        }
      ],
      "source": [
        "# Answ. Ex 1\n",
        "# (write your code below)\n",
        "# Answer \n",
        "Full_name = 'Karen Dayan Caicedo Vargas'\n",
        "print('First Name:', Full_name[0:5] ,'\\tMiddle Name:',Full_name[6:11])\n",
        "print('First Last Name:', Full_name[11:19],'\\tSecond Last Name:', Full_name[19:26])"
      ]
    },
    {
      "cell_type": "markdown",
      "source": [
        "## Ex 2.\n",
        "\n",
        "In the cell code below, you are given two random numbers `x` and `y`. \n",
        "\n",
        "Write the appropiate code to print the result of dividing `x` by all its precedents rounded by `y` decimal positions.\n",
        "\n",
        "This is an example of the expected result for `x = 15` and `y = 2`:\n",
        "\n",
        "`15 / 1 = 15.00`\n",
        "\n",
        "`15 / 2 = 7.50`\n",
        "\n",
        "`15 / 3 = 5.00`\n",
        "\n",
        "`...`\n",
        "\n",
        "`15 / 15 = 1.00`\n",
        "\n",
        "**JUST IN CASE!** You must use the variables given to you"
      ],
      "metadata": {
        "id": "YFsGiwcNfgzP"
      }
    },
    {
      "cell_type": "code",
      "source": [
        "# Answ. Ex 2 \n",
        "###################################\n",
        "#      DO NOT MODIFY THIS PART    #\n",
        "import numpy as np\n",
        "x = round(np.random.uniform(12,22))\n",
        "y = round(np.random.uniform(1,4))\n",
        "###################################\n",
        "\n",
        "# Answer 2 \n",
        "print('Division table of ', x, ':')\n",
        "for i in range (1,x+1): print(x,'/' ,i,'=',round(x/i,y))"
      ],
      "metadata": {
        "id": "Dwdsh30Ti3vl",
        "colab": {
          "base_uri": "https://localhost:8080/"
        },
        "outputId": "2574137d-fe79-4cd3-b65f-4b775eac186f"
      },
      "execution_count": 91,
      "outputs": [
        {
          "output_type": "stream",
          "name": "stdout",
          "text": [
            "Division table of  20 :\n",
            "20 / 1 = 20.0\n",
            "20 / 2 = 10.0\n",
            "20 / 3 = 6.667\n",
            "20 / 4 = 5.0\n",
            "20 / 5 = 4.0\n",
            "20 / 6 = 3.333\n",
            "20 / 7 = 2.857\n",
            "20 / 8 = 2.5\n",
            "20 / 9 = 2.222\n",
            "20 / 10 = 2.0\n",
            "20 / 11 = 1.818\n",
            "20 / 12 = 1.667\n",
            "20 / 13 = 1.538\n",
            "20 / 14 = 1.429\n",
            "20 / 15 = 1.333\n",
            "20 / 16 = 1.25\n",
            "20 / 17 = 1.176\n",
            "20 / 18 = 1.111\n",
            "20 / 19 = 1.053\n",
            "20 / 20 = 1.0\n"
          ]
        }
      ]
    },
    {
      "cell_type": "markdown",
      "source": [
        "## Ex 3. \n",
        "\n",
        "The Fibonnaci sequence is a sequence constructed by the process:\n",
        "\n",
        "$x_{i} = x_{i-1} + x_{i-2}$\n",
        "\n",
        "where $x_{1} = x_{2} = 1$.\n",
        "\n",
        "Below you are given a random number `z`, write the appropiate code to calculate and print the `z`th position of the Fibonnaci sequence. \n",
        "\n",
        "\n"
      ],
      "metadata": {
        "id": "PYIRNu3imJ_n"
      }
    },
    {
      "cell_type": "code",
      "source": [
        "w = 1"
      ],
      "metadata": {
        "id": "8pJShEFoi0eq"
      },
      "execution_count": 187,
      "outputs": []
    },
    {
      "cell_type": "code",
      "source": [
        "# Answ. Ex 3\n",
        "###################################\n",
        "#      DO NOT MODIFY THIS PART    #\n",
        "import numpy as np\n",
        "z = round(np.random.uniform(50,100))\n",
        "###################################\n",
        "\n",
        "# (write your code below)\n",
        "# Answer \n",
        "\n",
        "\n",
        "w +=i+1\n",
        "for i in range (1,3):print('Position',i,':' ,1)\n",
        "for i in range (3,z+1): print('Position',i,':',w)"
      ],
      "metadata": {
        "id": "wntlZUatp9uE",
        "colab": {
          "base_uri": "https://localhost:8080/"
        },
        "outputId": "cd4ddbd3-2480-4d1c-cb37-180a81728af6"
      },
      "execution_count": 190,
      "outputs": [
        {
          "output_type": "stream",
          "name": "stdout",
          "text": [
            "Position 1 : 1\n",
            "Position 2 : 1\n",
            "Position 3 : 157\n",
            "Position 4 : 157\n",
            "Position 5 : 157\n",
            "Position 6 : 157\n",
            "Position 7 : 157\n",
            "Position 8 : 157\n",
            "Position 9 : 157\n",
            "Position 10 : 157\n",
            "Position 11 : 157\n",
            "Position 12 : 157\n",
            "Position 13 : 157\n",
            "Position 14 : 157\n",
            "Position 15 : 157\n",
            "Position 16 : 157\n",
            "Position 17 : 157\n",
            "Position 18 : 157\n",
            "Position 19 : 157\n",
            "Position 20 : 157\n",
            "Position 21 : 157\n",
            "Position 22 : 157\n",
            "Position 23 : 157\n",
            "Position 24 : 157\n",
            "Position 25 : 157\n",
            "Position 26 : 157\n",
            "Position 27 : 157\n",
            "Position 28 : 157\n",
            "Position 29 : 157\n",
            "Position 30 : 157\n",
            "Position 31 : 157\n",
            "Position 32 : 157\n",
            "Position 33 : 157\n",
            "Position 34 : 157\n",
            "Position 35 : 157\n",
            "Position 36 : 157\n",
            "Position 37 : 157\n",
            "Position 38 : 157\n",
            "Position 39 : 157\n",
            "Position 40 : 157\n",
            "Position 41 : 157\n",
            "Position 42 : 157\n",
            "Position 43 : 157\n",
            "Position 44 : 157\n",
            "Position 45 : 157\n",
            "Position 46 : 157\n",
            "Position 47 : 157\n",
            "Position 48 : 157\n",
            "Position 49 : 157\n",
            "Position 50 : 157\n",
            "Position 51 : 157\n",
            "Position 52 : 157\n",
            "Position 53 : 157\n",
            "Position 54 : 157\n",
            "Position 55 : 157\n",
            "Position 56 : 157\n",
            "Position 57 : 157\n",
            "Position 58 : 157\n",
            "Position 59 : 157\n",
            "Position 60 : 157\n",
            "Position 61 : 157\n",
            "Position 62 : 157\n",
            "Position 63 : 157\n",
            "Position 64 : 157\n",
            "Position 65 : 157\n",
            "Position 66 : 157\n",
            "Position 67 : 157\n",
            "Position 68 : 157\n",
            "Position 69 : 157\n",
            "Position 70 : 157\n",
            "Position 71 : 157\n"
          ]
        }
      ]
    },
    {
      "cell_type": "markdown",
      "source": [
        "## Ex 4.\n",
        "\n",
        "Create a string variable with the name of your favorite music artist or group.Write the appropiate code to print it in reversed order.\n",
        "\n",
        "*Example:*\n",
        "\n",
        "`w = 'Dog'`\n",
        "\n",
        "Expected result: `'goD'`.\n",
        "\n",
        "\n",
        "\n"
      ],
      "metadata": {
        "id": "2t2WnRieqLoc"
      }
    },
    {
      "cell_type": "code",
      "source": [
        "# Answ. Ex 4\n",
        "# (write your code below)\n",
        "Dog = 'Molly'\n",
        "print('Name of my Dog :',Dog[4],Dog[3],Dog[2],Dog[1],Dog[0])"
      ],
      "metadata": {
        "id": "FQU_vc_5sse0",
        "colab": {
          "base_uri": "https://localhost:8080/"
        },
        "outputId": "de7300d0-6a13-4d26-8dfb-ac15330d2dd8"
      },
      "execution_count": 197,
      "outputs": [
        {
          "output_type": "stream",
          "name": "stdout",
          "text": [
            "Name of my Dog : y l l o M\n"
          ]
        }
      ]
    }
  ]
}