{
  "nbformat": 4,
  "nbformat_minor": 0,
  "metadata": {
    "colab": {
      "name": "Data 2.ipynb",
      "provenance": [],
      "collapsed_sections": [],
      "toc_visible": true,
      "authorship_tag": "ABX9TyNWIv0dxFh1o0kSD24JP9IO",
      "include_colab_link": true
    },
    "kernelspec": {
      "name": "python3",
      "display_name": "Python 3"
    },
    "language_info": {
      "name": "python"
    }
  },
  "cells": [
    {
      "cell_type": "markdown",
      "metadata": {
        "id": "view-in-github",
        "colab_type": "text"
      },
      "source": [
        "<a href=\"https://colab.research.google.com/github/Karenncv/Data2/blob/main/Data_2.ipynb\" target=\"_parent\"><img src=\"https://colab.research.google.com/assets/colab-badge.svg\" alt=\"Open In Colab\"/></a>"
      ]
    },
    {
      "cell_type": "code",
      "execution_count": null,
      "metadata": {
        "id": "UfbpbwoJL6Qr"
      },
      "outputs": [],
      "source": [
        ""
      ]
    },
    {
      "cell_type": "markdown",
      "source": [
        "# Introduction\n",
        "\n",
        "We are going to star *promming*\n"
      ],
      "metadata": {
        "id": "YNXysiHNMZIg"
      }
    },
    {
      "cell_type": "markdown",
      "source": [
        "# **1. What is Phyton?**\n",
        "\n",
        "Phyton it was created in 1991 and can do anything \n",
        "\n",
        "\n",
        "\n"
      ],
      "metadata": {
        "id": "PQ5uFCDXMuFw"
      }
    },
    {
      "cell_type": "markdown",
      "source": [
        "#**1.1 Why phyton?**\n",
        "\n",
        "It is free.\n",
        "It is open source. \n",
        "It´s easy to learn. ***This is the advantage in phyton***"
      ],
      "metadata": {
        "id": "b0cc0p5oOtir"
      }
    },
    {
      "cell_type": "markdown",
      "source": [
        "## 3.1 Phyton is a calculater \n",
        "\n"
      ],
      "metadata": {
        "id": "UUur5-aLOqz9"
      }
    },
    {
      "cell_type": "code",
      "source": [
        "# Addition \n",
        "2+2 "
      ],
      "metadata": {
        "colab": {
          "base_uri": "https://localhost:8080/"
        },
        "id": "uBcg1Pb-O_VC",
        "outputId": "48c00a2e-6e4c-4a28-9ac5-67b01d680839"
      },
      "execution_count": 1,
      "outputs": [
        {
          "output_type": "execute_result",
          "data": {
            "text/plain": [
              "4"
            ]
          },
          "metadata": {},
          "execution_count": 1
        }
      ]
    },
    {
      "cell_type": "code",
      "source": [
        "# Substraction \n",
        "2-2"
      ],
      "metadata": {
        "colab": {
          "base_uri": "https://localhost:8080/"
        },
        "id": "DPqspch1P3aB",
        "outputId": "e2995def-de3c-4035-80c0-f65954814b79"
      },
      "execution_count": 2,
      "outputs": [
        {
          "output_type": "execute_result",
          "data": {
            "text/plain": [
              "0"
            ]
          },
          "metadata": {},
          "execution_count": 2
        }
      ]
    },
    {
      "cell_type": "code",
      "source": [
        "# Multiplication \n",
        "120*85"
      ],
      "metadata": {
        "colab": {
          "base_uri": "https://localhost:8080/"
        },
        "id": "8_2wXjfpQG5R",
        "outputId": "181be988-505b-4509-a319-b6967148b6ac"
      },
      "execution_count": 3,
      "outputs": [
        {
          "output_type": "execute_result",
          "data": {
            "text/plain": [
              "10200"
            ]
          },
          "metadata": {},
          "execution_count": 3
        }
      ]
    },
    {
      "cell_type": "code",
      "source": [
        "# Exponential \n",
        "5**2"
      ],
      "metadata": {
        "colab": {
          "base_uri": "https://localhost:8080/"
        },
        "id": "2Bba4bLXQfiv",
        "outputId": "cb7100fa-2374-40e7-bc52-c97ba35c8634"
      },
      "execution_count": 4,
      "outputs": [
        {
          "output_type": "execute_result",
          "data": {
            "text/plain": [
              "25"
            ]
          },
          "metadata": {},
          "execution_count": 4
        }
      ]
    },
    {
      "cell_type": "code",
      "source": [
        "# Division \n",
        "10/3"
      ],
      "metadata": {
        "colab": {
          "base_uri": "https://localhost:8080/"
        },
        "id": "ksFOAhvYQrfj",
        "outputId": "5e6e37c0-3e6b-4e92-c0a9-ec0a536a3fcd"
      },
      "execution_count": 6,
      "outputs": [
        {
          "output_type": "execute_result",
          "data": {
            "text/plain": [
              "3.3333333333333335"
            ]
          },
          "metadata": {},
          "execution_count": 6
        }
      ]
    },
    {
      "cell_type": "code",
      "source": [
        "# Integer Division\n",
        "10//3"
      ],
      "metadata": {
        "colab": {
          "base_uri": "https://localhost:8080/"
        },
        "id": "Rf5uAqhvQ-1z",
        "outputId": "94f283b5-e4c1-4c5a-cea0-11fbafc52d84"
      },
      "execution_count": 7,
      "outputs": [
        {
          "output_type": "execute_result",
          "data": {
            "text/plain": [
              "3"
            ]
          },
          "metadata": {},
          "execution_count": 7
        }
      ]
    }
  ]
}