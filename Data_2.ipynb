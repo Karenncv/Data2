{
  "nbformat": 4,
  "nbformat_minor": 0,
  "metadata": {
    "colab": {
      "name": "Data 2.ipynb",
      "provenance": [],
      "collapsed_sections": [],
      "toc_visible": true,
      "authorship_tag": "ABX9TyOUFayhKL1t02ObpA1svJg1",
      "include_colab_link": true
    },
    "kernelspec": {
      "name": "python3",
      "display_name": "Python 3"
    },
    "language_info": {
      "name": "python"
    }
  },
  "cells": [
    {
      "cell_type": "markdown",
      "metadata": {
        "id": "view-in-github",
        "colab_type": "text"
      },
      "source": [
        "<a href=\"https://colab.research.google.com/github/Karenncv/Data2/blob/main/Data_2.ipynb\" target=\"_parent\"><img src=\"https://colab.research.google.com/assets/colab-badge.svg\" alt=\"Open In Colab\"/></a>"
      ]
    },
    {
      "cell_type": "markdown",
      "source": [
        "# Introduction\n",
        "\n",
        "We are going to star *promming*\n"
      ],
      "metadata": {
        "id": "YNXysiHNMZIg"
      }
    },
    {
      "cell_type": "markdown",
      "source": [
        "# **1. What is Phyton?**\n",
        "\n",
        "Phyton it was created in 1991 and can do anything \n",
        "\n",
        "\n",
        "\n"
      ],
      "metadata": {
        "id": "PQ5uFCDXMuFw"
      }
    },
    {
      "cell_type": "markdown",
      "source": [
        "#**1.1 Why phyton?**\n",
        "\n",
        "It is free.\n",
        "It is open source. \n",
        "It´s easy to learn. ***This is the advantage in phyton***"
      ],
      "metadata": {
        "id": "b0cc0p5oOtir"
      }
    },
    {
      "cell_type": "markdown",
      "source": [
        "## 3.1 Phyton is a calculater \n",
        "\n"
      ],
      "metadata": {
        "id": "UUur5-aLOqz9"
      }
    },
    {
      "cell_type": "code",
      "source": [
        "# Addition \n",
        "2+2 "
      ],
      "metadata": {
        "colab": {
          "base_uri": "https://localhost:8080/"
        },
        "id": "uBcg1Pb-O_VC",
        "outputId": "48c00a2e-6e4c-4a28-9ac5-67b01d680839"
      },
      "execution_count": null,
      "outputs": [
        {
          "output_type": "execute_result",
          "data": {
            "text/plain": [
              "4"
            ]
          },
          "metadata": {},
          "execution_count": 1
        }
      ]
    },
    {
      "cell_type": "code",
      "source": [
        "# Substraction \n",
        "2-2"
      ],
      "metadata": {
        "colab": {
          "base_uri": "https://localhost:8080/"
        },
        "id": "DPqspch1P3aB",
        "outputId": "e2995def-de3c-4035-80c0-f65954814b79"
      },
      "execution_count": null,
      "outputs": [
        {
          "output_type": "execute_result",
          "data": {
            "text/plain": [
              "0"
            ]
          },
          "metadata": {},
          "execution_count": 2
        }
      ]
    },
    {
      "cell_type": "code",
      "source": [
        "# Multiplication \n",
        "120*85"
      ],
      "metadata": {
        "colab": {
          "base_uri": "https://localhost:8080/"
        },
        "id": "8_2wXjfpQG5R",
        "outputId": "181be988-505b-4509-a319-b6967148b6ac"
      },
      "execution_count": null,
      "outputs": [
        {
          "output_type": "execute_result",
          "data": {
            "text/plain": [
              "10200"
            ]
          },
          "metadata": {},
          "execution_count": 3
        }
      ]
    },
    {
      "cell_type": "code",
      "source": [
        "# Exponential \n",
        "5**2"
      ],
      "metadata": {
        "colab": {
          "base_uri": "https://localhost:8080/"
        },
        "id": "2Bba4bLXQfiv",
        "outputId": "cb7100fa-2374-40e7-bc52-c97ba35c8634"
      },
      "execution_count": null,
      "outputs": [
        {
          "output_type": "execute_result",
          "data": {
            "text/plain": [
              "25"
            ]
          },
          "metadata": {},
          "execution_count": 4
        }
      ]
    },
    {
      "cell_type": "code",
      "source": [
        "# Division \n",
        "10/3"
      ],
      "metadata": {
        "colab": {
          "base_uri": "https://localhost:8080/"
        },
        "id": "ksFOAhvYQrfj",
        "outputId": "5e6e37c0-3e6b-4e92-c0a9-ec0a536a3fcd"
      },
      "execution_count": null,
      "outputs": [
        {
          "output_type": "execute_result",
          "data": {
            "text/plain": [
              "3.3333333333333335"
            ]
          },
          "metadata": {},
          "execution_count": 6
        }
      ]
    },
    {
      "cell_type": "code",
      "source": [
        "# Integer Division\n",
        "10//3"
      ],
      "metadata": {
        "colab": {
          "base_uri": "https://localhost:8080/"
        },
        "id": "Rf5uAqhvQ-1z",
        "outputId": "94f283b5-e4c1-4c5a-cea0-11fbafc52d84"
      },
      "execution_count": null,
      "outputs": [
        {
          "output_type": "execute_result",
          "data": {
            "text/plain": [
              "3"
            ]
          },
          "metadata": {},
          "execution_count": 7
        }
      ]
    },
    {
      "cell_type": "markdown",
      "source": [
        "## 3.2 Compesite Operations \n",
        "\n",
        "*Operator Procedence*\n",
        "* the first is multipliaction or division\n",
        "* then adittion or substraction \n"
      ],
      "metadata": {
        "id": "N6GfmkysMUjK"
      }
    },
    {
      "cell_type": "code",
      "source": [
        "#Example\n",
        "30-5*4/2+7"
      ],
      "metadata": {
        "colab": {
          "base_uri": "https://localhost:8080/"
        },
        "id": "hpJKrhfWNlsi",
        "outputId": "d69360fc-b3d8-435c-c3c9-95c57c37b1a2"
      },
      "execution_count": null,
      "outputs": [
        {
          "output_type": "execute_result",
          "data": {
            "text/plain": [
              "27.0"
            ]
          },
          "metadata": {},
          "execution_count": 5
        }
      ]
    },
    {
      "cell_type": "markdown",
      "source": [
        "The parentheses ( ) this modify the operator precedence, it´s very important be careful with it.\n"
      ],
      "metadata": {
        "id": "yFN5OZTvNsFL"
      }
    },
    {
      "cell_type": "code",
      "source": [
        "# Example \n",
        "(30-5)*4/2+7"
      ],
      "metadata": {
        "colab": {
          "base_uri": "https://localhost:8080/"
        },
        "id": "zNEDZGPUOBNL",
        "outputId": "fde0c782-00d9-4bd9-efa4-30757f50802d"
      },
      "execution_count": null,
      "outputs": [
        {
          "output_type": "execute_result",
          "data": {
            "text/plain": [
              "57.0"
            ]
          },
          "metadata": {},
          "execution_count": 4
        }
      ]
    },
    {
      "cell_type": "markdown",
      "source": [
        "## 3.3 Integers and Real Numbers \n",
        "\n",
        "when you used (int) is a integers numbers \n",
        "\n",
        "| Math | Code |\n",
        "|------|------|\n",
        "| Integers | integers (int) |\n",
        "| Real | Float point (float) |"
      ],
      "metadata": {
        "id": "hRpoPgGCOwkV"
      }
    },
    {
      "cell_type": "markdown",
      "source": [
        "The *funtion* 'type()'  let´s us check \n",
        "its for check the number is integers or float point \n",
        "In the float point is important the point ( . ) no the ( , ) this is a error."
      ],
      "metadata": {
        "id": "73ipYp2HQpf1"
      }
    },
    {
      "cell_type": "code",
      "source": [
        "type(26.5)"
      ],
      "metadata": {
        "colab": {
          "base_uri": "https://localhost:8080/"
        },
        "id": "jm-D_r3ERgsF",
        "outputId": "71f30990-319f-4415-caf4-8965fd559250"
      },
      "execution_count": null,
      "outputs": [
        {
          "output_type": "execute_result",
          "data": {
            "text/plain": [
              "float"
            ]
          },
          "metadata": {},
          "execution_count": 8
        }
      ]
    },
    {
      "cell_type": "markdown",
      "source": [
        "## **Scietific Notation**\n",
        "\n",
        "The \"form\" = 'x*10y it is written as Xey \n"
      ],
      "metadata": {
        "id": "5vCUdMLkGwGc"
      }
    },
    {
      "cell_type": "code",
      "source": [
        "#Example \n",
        "1.52e2"
      ],
      "metadata": {
        "colab": {
          "base_uri": "https://localhost:8080/"
        },
        "id": "vPwZt968ItIe",
        "outputId": "e8efec6d-39ed-4082-835e-acaf435a8761"
      },
      "execution_count": null,
      "outputs": [
        {
          "output_type": "execute_result",
          "data": {
            "text/plain": [
              "152.0"
            ]
          },
          "metadata": {},
          "execution_count": 1
        }
      ]
    },
    {
      "cell_type": "markdown",
      "source": [
        "What happen if you want represent ´0.25' with scientific notation?"
      ],
      "metadata": {
        "id": "loLnYNlNI4aS"
      }
    },
    {
      "cell_type": "code",
      "source": [
        "0.0025e2"
      ],
      "metadata": {
        "colab": {
          "base_uri": "https://localhost:8080/"
        },
        "id": "qQK9oV35JFHQ",
        "outputId": "0d15ee38-4a53-4d9a-b359-49113072ab14"
      },
      "execution_count": null,
      "outputs": [
        {
          "output_type": "execute_result",
          "data": {
            "text/plain": [
              "0.25"
            ]
          },
          "metadata": {},
          "execution_count": 3
        }
      ]
    },
    {
      "cell_type": "code",
      "source": [
        "# Its more easier than the after example \n",
        "2.5e-1"
      ],
      "metadata": {
        "colab": {
          "base_uri": "https://localhost:8080/"
        },
        "id": "1te6PjXFKGT1",
        "outputId": "ee9a97f6-9df1-491c-fd2c-1a2c6a050ca4"
      },
      "execution_count": null,
      "outputs": [
        {
          "output_type": "execute_result",
          "data": {
            "text/plain": [
              "0.25"
            ]
          },
          "metadata": {},
          "execution_count": 4
        }
      ]
    },
    {
      "cell_type": "code",
      "source": [
        "25e-2"
      ],
      "metadata": {
        "colab": {
          "base_uri": "https://localhost:8080/"
        },
        "id": "pdiD7k5CLCi9",
        "outputId": "eddf317f-b363-46a8-d548-64d2f4066781"
      },
      "execution_count": null,
      "outputs": [
        {
          "output_type": "execute_result",
          "data": {
            "text/plain": [
              "0.25"
            ]
          },
          "metadata": {},
          "execution_count": 6
        }
      ]
    },
    {
      "cell_type": "code",
      "source": [
        "#Example 2\n",
        "1.5e^5"
      ],
      "metadata": {
        "colab": {
          "base_uri": "https://localhost:8080/",
          "height": 130
        },
        "id": "ocfMSTlkLZbM",
        "outputId": "c42c8c9c-a949-4f87-b25d-823f61c40280"
      },
      "execution_count": null,
      "outputs": [
        {
          "output_type": "error",
          "ename": "SyntaxError",
          "evalue": "ignored",
          "traceback": [
            "\u001b[0;36m  File \u001b[0;32m\"<ipython-input-12-d23e3d15099e>\"\u001b[0;36m, line \u001b[0;32m2\u001b[0m\n\u001b[0;31m    1.5e^5\u001b[0m\n\u001b[0m       ^\u001b[0m\n\u001b[0;31mSyntaxError\u001b[0m\u001b[0;31m:\u001b[0m invalid syntax\n"
          ]
        }
      ]
    },
    {
      "cell_type": "markdown",
      "source": [
        "### **Transformation** \n",
        "\n",
        "Is when you transform a integer number for float number and vicevers "
      ],
      "metadata": {
        "id": "1Y0sl0gyM8YK"
      }
    },
    {
      "cell_type": "code",
      "source": [
        "# Example Int to Float \n",
        "float(5)"
      ],
      "metadata": {
        "colab": {
          "base_uri": "https://localhost:8080/"
        },
        "id": "XiN7wozXNWeZ",
        "outputId": "05433d95-cdb7-4de2-eea8-710e81f3c4b6"
      },
      "execution_count": null,
      "outputs": [
        {
          "output_type": "execute_result",
          "data": {
            "text/plain": [
              "5.0"
            ]
          },
          "metadata": {},
          "execution_count": 14
        }
      ]
    },
    {
      "cell_type": "code",
      "source": [
        "# Example float to int \n",
        "int(7.25)"
      ],
      "metadata": {
        "colab": {
          "base_uri": "https://localhost:8080/"
        },
        "id": "DHfkdXn9NgOh",
        "outputId": "eb6aaf01-1d65-4544-d375-7b96d19ced89"
      },
      "execution_count": null,
      "outputs": [
        {
          "output_type": "execute_result",
          "data": {
            "text/plain": [
              "7"
            ]
          },
          "metadata": {},
          "execution_count": 15
        }
      ]
    },
    {
      "cell_type": "markdown",
      "source": [
        "## 3.4. Basic functions \n",
        "\n"
      ],
      "metadata": {
        "id": "qXYGWgtUNw5J"
      }
    },
    {
      "cell_type": "markdown",
      "source": [
        "### **Print** \n",
        "\n"
      ],
      "metadata": {
        "id": "1-DWTbJfOLl_"
      }
    },
    {
      "cell_type": "code",
      "source": [
        "# Number example \n",
        "print(2022,8,11)"
      ],
      "metadata": {
        "colab": {
          "base_uri": "https://localhost:8080/"
        },
        "id": "bozEnQX1Oj_w",
        "outputId": "1edf81a6-688a-4dbe-9ba9-3d63989918c0"
      },
      "execution_count": null,
      "outputs": [
        {
          "output_type": "stream",
          "name": "stdout",
          "text": [
            "2022 8 11\n"
          ]
        }
      ]
    },
    {
      "cell_type": "code",
      "source": [
        "# String (alpabelth) Example\n",
        "print('rodrigo')"
      ],
      "metadata": {
        "colab": {
          "base_uri": "https://localhost:8080/"
        },
        "id": "KUsJuDLePdPX",
        "outputId": "2c7a6e68-2840-4295-f31f-a74d765edb37"
      },
      "execution_count": null,
      "outputs": [
        {
          "output_type": "stream",
          "name": "stdout",
          "text": [
            "rodrigo\n"
          ]
        }
      ]
    },
    {
      "cell_type": "code",
      "source": [
        "# Example more complicated\n",
        "print('First name: Karen','Last name: Caicedo')\n",
        "\n",
        "print('First name: Karen\\tLast name: Caicedo')\n",
        "\n",
        "print('First name: Karen\\nLast name: Caicedo')"
      ],
      "metadata": {
        "colab": {
          "base_uri": "https://localhost:8080/"
        },
        "id": "sn3c8t54QDR-",
        "outputId": "a07c282a-6b11-4ab6-b73b-a20811099949"
      },
      "execution_count": null,
      "outputs": [
        {
          "output_type": "stream",
          "name": "stdout",
          "text": [
            "First name: Karen Last name: Caicedo\n",
            "First name: Karen\tLast name: Caicedo\n",
            "First name: Karen\n",
            "Last name: Caicedo\n"
          ]
        }
      ]
    },
    {
      "cell_type": "code",
      "source": [
        "print('First name:', 'Karen','Last name:', 'Caicedo')"
      ],
      "metadata": {
        "colab": {
          "base_uri": "https://localhost:8080/"
        },
        "id": "A9oYLD1xSEcP",
        "outputId": "cc9d295b-d201-4d20-c997-56d8c9f2f85a"
      },
      "execution_count": null,
      "outputs": [
        {
          "output_type": "stream",
          "name": "stdout",
          "text": [
            "First name: Karen Last name: Caicedo\n"
          ]
        }
      ]
    },
    {
      "cell_type": "code",
      "source": [
        "# More complicated number example \n",
        "for i in range(0,10): print(i) "
      ],
      "metadata": {
        "colab": {
          "base_uri": "https://localhost:8080/"
        },
        "id": "66EUe47ZSK0v",
        "outputId": "f010bfcf-6915-480d-c583-6127ea6c691b"
      },
      "execution_count": null,
      "outputs": [
        {
          "output_type": "stream",
          "name": "stdout",
          "text": [
            "0\n",
            "1\n",
            "2\n",
            "3\n",
            "4\n",
            "5\n",
            "6\n",
            "7\n",
            "8\n",
            "9\n"
          ]
        }
      ]
    },
    {
      "cell_type": "code",
      "source": [
        "# Combine string and numbers\n",
        "print('my favorite number is:',4, 'because..')"
      ],
      "metadata": {
        "colab": {
          "base_uri": "https://localhost:8080/"
        },
        "id": "4RR3mu7NTLoW",
        "outputId": "3a8e24da-92a0-480c-f6b6-b77f27bab3c9"
      },
      "execution_count": null,
      "outputs": [
        {
          "output_type": "stream",
          "name": "stdout",
          "text": [
            "my favorite number is: 4 because..\n"
          ]
        }
      ]
    },
    {
      "cell_type": "markdown",
      "source": [
        "### **Round** "
      ],
      "metadata": {
        "id": "ljFwiy_ZTiP2"
      }
    },
    {
      "cell_type": "code",
      "source": [
        "# Example \n",
        "round(1.253,2)"
      ],
      "metadata": {
        "colab": {
          "base_uri": "https://localhost:8080/"
        },
        "id": "O7evGDeLTp62",
        "outputId": "5e90b712-c281-4f83-c50b-22bc7dbc6e97"
      },
      "execution_count": null,
      "outputs": [
        {
          "output_type": "execute_result",
          "data": {
            "text/plain": [
              "1.25"
            ]
          },
          "metadata": {},
          "execution_count": 37
        }
      ]
    },
    {
      "cell_type": "code",
      "source": [
        "# practice \n",
        "# Consider the number 7.2354 \n",
        "# print every result for rounding from 3 to 0 \n",
        "\n",
        "print( 'Round with' , 0, 'decimals', round(7.2354,0))\n",
        "print( 'Round with' , 1, 'decimals', round(7.2354,1))\n",
        "print( 'Round with' , 2, 'decimals', round(7.2354,2))\n",
        "print( 'Round with' , 3, 'decimals', round(7.2354,3))\n",
        "\n"
      ],
      "metadata": {
        "colab": {
          "base_uri": "https://localhost:8080/"
        },
        "id": "uIJQ5KGFUHDW",
        "outputId": "07cf91db-3610-4bea-926e-a9d7bf995ce4"
      },
      "execution_count": null,
      "outputs": [
        {
          "output_type": "stream",
          "name": "stdout",
          "text": [
            "Round with 0 decimals 7.0\n",
            "Round with 1 decimals 7.2\n",
            "Round with 2 decimals 7.24\n",
            "Round with 3 decimals 7.235\n"
          ]
        }
      ]
    },
    {
      "cell_type": "code",
      "source": [
        "#you used this for more beutiful de answer \n",
        "for i in range(0,4): print( 'Round with' , i, 'decimals', round(7.2354,i))"
      ],
      "metadata": {
        "colab": {
          "base_uri": "https://localhost:8080/"
        },
        "id": "nyDJdMBEZBx0",
        "outputId": "0300c43e-0c2c-4c3e-ba0d-d64124c616f0"
      },
      "execution_count": null,
      "outputs": [
        {
          "output_type": "stream",
          "name": "stdout",
          "text": [
            "Round with 0 decimals 7.0\n",
            "Round with 1 decimals 7.2\n",
            "Round with 2 decimals 7.24\n",
            "Round with 3 decimals 7.235\n"
          ]
        }
      ]
    },
    {
      "cell_type": "code",
      "source": [
        "#Practice\n",
        "#Print the firts 100 multiples of the number 2\n",
        "print('this is the list of the 100th multiples of 2')\n",
        "for i in range(1,101): print ('positions:' , i, 'multiples:',(2*i))"
      ],
      "metadata": {
        "colab": {
          "base_uri": "https://localhost:8080/"
        },
        "id": "K0pV9YLbZblr",
        "outputId": "eaabad32-775e-4000-afe7-8781b1c0474f"
      },
      "execution_count": 1,
      "outputs": [
        {
          "output_type": "stream",
          "name": "stdout",
          "text": [
            "this is the list of the 100th multiples of 2\n",
            "positions: 1 multiples: 2\n",
            "positions: 2 multiples: 4\n",
            "positions: 3 multiples: 6\n",
            "positions: 4 multiples: 8\n",
            "positions: 5 multiples: 10\n",
            "positions: 6 multiples: 12\n",
            "positions: 7 multiples: 14\n",
            "positions: 8 multiples: 16\n",
            "positions: 9 multiples: 18\n",
            "positions: 10 multiples: 20\n",
            "positions: 11 multiples: 22\n",
            "positions: 12 multiples: 24\n",
            "positions: 13 multiples: 26\n",
            "positions: 14 multiples: 28\n",
            "positions: 15 multiples: 30\n",
            "positions: 16 multiples: 32\n",
            "positions: 17 multiples: 34\n",
            "positions: 18 multiples: 36\n",
            "positions: 19 multiples: 38\n",
            "positions: 20 multiples: 40\n",
            "positions: 21 multiples: 42\n",
            "positions: 22 multiples: 44\n",
            "positions: 23 multiples: 46\n",
            "positions: 24 multiples: 48\n",
            "positions: 25 multiples: 50\n",
            "positions: 26 multiples: 52\n",
            "positions: 27 multiples: 54\n",
            "positions: 28 multiples: 56\n",
            "positions: 29 multiples: 58\n",
            "positions: 30 multiples: 60\n",
            "positions: 31 multiples: 62\n",
            "positions: 32 multiples: 64\n",
            "positions: 33 multiples: 66\n",
            "positions: 34 multiples: 68\n",
            "positions: 35 multiples: 70\n",
            "positions: 36 multiples: 72\n",
            "positions: 37 multiples: 74\n",
            "positions: 38 multiples: 76\n",
            "positions: 39 multiples: 78\n",
            "positions: 40 multiples: 80\n",
            "positions: 41 multiples: 82\n",
            "positions: 42 multiples: 84\n",
            "positions: 43 multiples: 86\n",
            "positions: 44 multiples: 88\n",
            "positions: 45 multiples: 90\n",
            "positions: 46 multiples: 92\n",
            "positions: 47 multiples: 94\n",
            "positions: 48 multiples: 96\n",
            "positions: 49 multiples: 98\n",
            "positions: 50 multiples: 100\n",
            "positions: 51 multiples: 102\n",
            "positions: 52 multiples: 104\n",
            "positions: 53 multiples: 106\n",
            "positions: 54 multiples: 108\n",
            "positions: 55 multiples: 110\n",
            "positions: 56 multiples: 112\n",
            "positions: 57 multiples: 114\n",
            "positions: 58 multiples: 116\n",
            "positions: 59 multiples: 118\n",
            "positions: 60 multiples: 120\n",
            "positions: 61 multiples: 122\n",
            "positions: 62 multiples: 124\n",
            "positions: 63 multiples: 126\n",
            "positions: 64 multiples: 128\n",
            "positions: 65 multiples: 130\n",
            "positions: 66 multiples: 132\n",
            "positions: 67 multiples: 134\n",
            "positions: 68 multiples: 136\n",
            "positions: 69 multiples: 138\n",
            "positions: 70 multiples: 140\n",
            "positions: 71 multiples: 142\n",
            "positions: 72 multiples: 144\n",
            "positions: 73 multiples: 146\n",
            "positions: 74 multiples: 148\n",
            "positions: 75 multiples: 150\n",
            "positions: 76 multiples: 152\n",
            "positions: 77 multiples: 154\n",
            "positions: 78 multiples: 156\n",
            "positions: 79 multiples: 158\n",
            "positions: 80 multiples: 160\n",
            "positions: 81 multiples: 162\n",
            "positions: 82 multiples: 164\n",
            "positions: 83 multiples: 166\n",
            "positions: 84 multiples: 168\n",
            "positions: 85 multiples: 170\n",
            "positions: 86 multiples: 172\n",
            "positions: 87 multiples: 174\n",
            "positions: 88 multiples: 176\n",
            "positions: 89 multiples: 178\n",
            "positions: 90 multiples: 180\n",
            "positions: 91 multiples: 182\n",
            "positions: 92 multiples: 184\n",
            "positions: 93 multiples: 186\n",
            "positions: 94 multiples: 188\n",
            "positions: 95 multiples: 190\n",
            "positions: 96 multiples: 192\n",
            "positions: 97 multiples: 194\n",
            "positions: 98 multiples: 196\n",
            "positions: 99 multiples: 198\n",
            "positions: 100 multiples: 200\n"
          ]
        }
      ]
    },
    {
      "cell_type": "markdown",
      "source": [
        "### Absolut value \n"
      ],
      "metadata": {
        "id": "q_bpY4t0N5Lp"
      }
    },
    {
      "cell_type": "code",
      "source": [
        "# Example\n",
        "abs(-25)"
      ],
      "metadata": {
        "colab": {
          "base_uri": "https://localhost:8080/"
        },
        "id": "Zl1I4NChN-kp",
        "outputId": "704e3c50-bd7c-4d85-8543-d43281c72716"
      },
      "execution_count": 2,
      "outputs": [
        {
          "output_type": "execute_result",
          "data": {
            "text/plain": [
              "25"
            ]
          },
          "metadata": {},
          "execution_count": 2
        }
      ]
    }
  ]
}