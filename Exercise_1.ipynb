{
  "nbformat": 4,
  "nbformat_minor": 0,
  "metadata": {
    "colab": {
      "provenance": [],
      "collapsed_sections": [],
      "authorship_tag": "ABX9TyOoltIp/aa1btFYWdHFaDEg",
      "include_colab_link": true
    },
    "kernelspec": {
      "name": "python3",
      "display_name": "Python 3"
    },
    "language_info": {
      "name": "python"
    }
  },
  "cells": [
    {
      "cell_type": "markdown",
      "metadata": {
        "id": "view-in-github",
        "colab_type": "text"
      },
      "source": [
        "<a href=\"https://colab.research.google.com/github/Karenncv/Data2/blob/main/Exercise_1.ipynb\" target=\"_parent\"><img src=\"https://colab.research.google.com/assets/colab-badge.svg\" alt=\"Open In Colab\"/></a>"
      ]
    },
    {
      "cell_type": "markdown",
      "source": [
        "## ***Exercise***\n",
        "**Karen Dayan Caicedo Vargas -63181144**"
      ],
      "metadata": {
        "id": "A0Z5RsvsqDdx"
      }
    },
    {
      "cell_type": "markdown",
      "source": [
        "* my code has 17 lines"
      ],
      "metadata": {
        "id": "lNh_Wed_qhDB"
      }
    },
    {
      "cell_type": "code",
      "source": [
        "import numpy as np"
      ],
      "metadata": {
        "id": "wMe4CuD4S1EL"
      },
      "execution_count": null,
      "outputs": []
    },
    {
      "cell_type": "code",
      "execution_count": 36,
      "metadata": {
        "colab": {
          "base_uri": "https://localhost:8080/"
        },
        "id": "rzPoupceRWw_",
        "outputId": "69b2d691-4f55-43ae-dd58-09e76c14771a"
      },
      "outputs": [
        {
          "output_type": "stream",
          "name": "stdout",
          "text": [
            "Results for your number bet:\n",
            "Your bet: 11             Number drawn: 22\n",
            "¡You lose!\n",
            "Results for your color bet:\n",
            "Your color: red        Color drawn: black\n",
            "¡You lose!\n"
          ]
        }
      ],
      "source": [
        "## Roulette Game \n",
        "\n",
        "black = np.array([2,4,6,8,10,11,13,15,17,20,22,24,26,28,29,31,33,35])\n",
        "red   = np.array([1,3,5,7,9,12,14,16,18,19,21,23,25,27,30,32,34,36])\n",
        "# 1. Step : The bet\n",
        "## You can choose between 'black', 'red' or ' ', try your luck \n",
        "color_bet  = 'red'  \n",
        "## you can choose an integer from 0 to 36\n",
        "number_bet = 11\n",
        "\n",
        "# 2. Step: The draw\n",
        "## for the draw, a random number between 0 and 36 will be generated \n",
        "number = np.random.randint(low = 0, high = 37)\n",
        "\n",
        "## Checking the color\n",
        "color = 'black' if  (number in black )  else 'Red'\n",
        "if number == 0:\n",
        "  color = 'neutral' \n",
        "\n",
        "# The results\n",
        "## Number result\n",
        "print('Results for your number bet:')\n",
        "print('Your bet:', number_bet,'           ' , 'Number drawn:', number)\n",
        "print('¡You win!' if (number_bet == number) else '¡You lose!')\n",
        "\n",
        "## Color result\n",
        "print('Results for your color bet:')\n",
        "if color_bet == '':\n",
        "  print('No bet was made')\n",
        "else:\n",
        "  print('Your color:', color_bet, '      ','Color drawn:', color)\n",
        "print('¡You win!' if (color_bet == color) else '¡You lose!')"
      ]
    }
  ]
}