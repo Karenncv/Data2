{
  "nbformat": 4,
  "nbformat_minor": 0,
  "metadata": {
    "colab": {
      "name": "Data 3 .ipynb",
      "provenance": [],
      "toc_visible": true,
      "authorship_tag": "ABX9TyOT3YE9VZ/DHiEPY5y+/KUP",
      "include_colab_link": true
    },
    "kernelspec": {
      "name": "python3",
      "display_name": "Python 3"
    },
    "language_info": {
      "name": "python"
    }
  },
  "cells": [
    {
      "cell_type": "markdown",
      "metadata": {
        "id": "view-in-github",
        "colab_type": "text"
      },
      "source": [
        "<a href=\"https://colab.research.google.com/github/Karenncv/Data2/blob/main/Data_3_.ipynb\" target=\"_parent\"><img src=\"https://colab.research.google.com/assets/colab-badge.svg\" alt=\"Open In Colab\"/></a>"
      ]
    },
    {
      "cell_type": "markdown",
      "source": [
        "#1. What's a Variable? \n",
        "\n",
        "*Container*, **store** values "
      ],
      "metadata": {
        "id": "f5V-sD0SO8SJ"
      }
    },
    {
      "cell_type": "markdown",
      "source": [
        "# 2. Declaration and Assigment \n"
      ],
      "metadata": {
        "id": "iiapcniPPRpg"
      }
    },
    {
      "cell_type": "code",
      "source": [
        "# Example \n",
        "\n",
        "a = 3\n"
      ],
      "metadata": {
        "id": "KT_nzQ7GPPmA"
      },
      "execution_count": null,
      "outputs": []
    },
    {
      "cell_type": "code",
      "source": [
        "# Example using variable \n",
        "print(a +1)"
      ],
      "metadata": {
        "colab": {
          "base_uri": "https://localhost:8080/"
        },
        "id": "BjstlzmLQnm6",
        "outputId": "b628e50e-18e7-47ba-e416-81970e123522"
      },
      "execution_count": null,
      "outputs": [
        {
          "output_type": "stream",
          "name": "stdout",
          "text": [
            "4\n"
          ]
        }
      ]
    },
    {
      "cell_type": "code",
      "source": [
        "# Example \n",
        "x = y = z = 100\n",
        "print(x,y,z)"
      ],
      "metadata": {
        "colab": {
          "base_uri": "https://localhost:8080/"
        },
        "id": "40X4aOyPQ3f7",
        "outputId": "558c01cd-f196-4e95-c095-4db2bd220741"
      },
      "execution_count": null,
      "outputs": [
        {
          "output_type": "stream",
          "name": "stdout",
          "text": [
            "100 100 100\n"
          ]
        }
      ]
    },
    {
      "cell_type": "markdown",
      "source": [
        "# 3. Delete and clear \n",
        "\n"
      ],
      "metadata": {
        "id": "dTMpY6lRRwns"
      }
    },
    {
      "cell_type": "code",
      "source": [
        "# Example- delenting a simple variable \n",
        "\n",
        "age=21\n",
        "av=150\n",
        "del age\n",
        "#the funcion is ¨del¨ when you want delate one variable \n",
        "#if you want delete 2 vaviables you used the ¨,¨ \n"
      ],
      "metadata": {
        "id": "nHtbLuJHR39M"
      },
      "execution_count": null,
      "outputs": []
    },
    {
      "cell_type": "code",
      "source": [
        "# Example- delenting a list variable \n",
        "del a,av"
      ],
      "metadata": {
        "id": "aarIWc2zS6h0"
      },
      "execution_count": null,
      "outputs": []
    },
    {
      "cell_type": "code",
      "source": [
        "# Example - erase or clear all variables\n",
        "%reset"
      ],
      "metadata": {
        "colab": {
          "base_uri": "https://localhost:8080/"
        },
        "id": "lYEN-CBUS8-t",
        "outputId": "d948591c-766d-418a-f11f-98ed9fc79d3b"
      },
      "execution_count": null,
      "outputs": [
        {
          "name": "stdout",
          "output_type": "stream",
          "text": [
            "Once deleted, variables cannot be recovered. Proceed (y/[n])? y\n"
          ]
        }
      ]
    },
    {
      "cell_type": "code",
      "source": [
        "a = 7.2345"
      ],
      "metadata": {
        "id": "GyqLRblLTN39"
      },
      "execution_count": null,
      "outputs": []
    },
    {
      "cell_type": "code",
      "source": [
        "for i in range (0,4): print('Round with', i , \"decimals\", round(a,i))"
      ],
      "metadata": {
        "colab": {
          "base_uri": "https://localhost:8080/"
        },
        "id": "7eXYo7x2TV1W",
        "outputId": "40e0f0f6-eb54-4aa4-85e1-36f118b93fdc"
      },
      "execution_count": null,
      "outputs": [
        {
          "output_type": "stream",
          "name": "stdout",
          "text": [
            "Round with 0 decimals 7.0\n",
            "Round with 1 decimals 7.2\n",
            "Round with 2 decimals 7.23\n",
            "Round with 3 decimals 7.234\n"
          ]
        }
      ]
    },
    {
      "cell_type": "code",
      "source": [
        "print('this is the list of the 100th multiples of' ,x,':')\n",
        "x = 2\n",
        "for i in range(1,101): print ('positions:' , i, 'multiples:',(x*i))"
      ],
      "metadata": {
        "colab": {
          "base_uri": "https://localhost:8080/"
        },
        "id": "lrId3GTLUP2V",
        "outputId": "755876b5-ff5d-468b-9211-48e79ae24fb0"
      },
      "execution_count": null,
      "outputs": [
        {
          "output_type": "stream",
          "name": "stdout",
          "text": [
            "this is the list of the 100th multiples of 2 :\n",
            "positions: 1 multiples: 2\n",
            "positions: 2 multiples: 4\n",
            "positions: 3 multiples: 6\n",
            "positions: 4 multiples: 8\n",
            "positions: 5 multiples: 10\n",
            "positions: 6 multiples: 12\n",
            "positions: 7 multiples: 14\n",
            "positions: 8 multiples: 16\n",
            "positions: 9 multiples: 18\n",
            "positions: 10 multiples: 20\n",
            "positions: 11 multiples: 22\n",
            "positions: 12 multiples: 24\n",
            "positions: 13 multiples: 26\n",
            "positions: 14 multiples: 28\n",
            "positions: 15 multiples: 30\n",
            "positions: 16 multiples: 32\n",
            "positions: 17 multiples: 34\n",
            "positions: 18 multiples: 36\n",
            "positions: 19 multiples: 38\n",
            "positions: 20 multiples: 40\n",
            "positions: 21 multiples: 42\n",
            "positions: 22 multiples: 44\n",
            "positions: 23 multiples: 46\n",
            "positions: 24 multiples: 48\n",
            "positions: 25 multiples: 50\n",
            "positions: 26 multiples: 52\n",
            "positions: 27 multiples: 54\n",
            "positions: 28 multiples: 56\n",
            "positions: 29 multiples: 58\n",
            "positions: 30 multiples: 60\n",
            "positions: 31 multiples: 62\n",
            "positions: 32 multiples: 64\n",
            "positions: 33 multiples: 66\n",
            "positions: 34 multiples: 68\n",
            "positions: 35 multiples: 70\n",
            "positions: 36 multiples: 72\n",
            "positions: 37 multiples: 74\n",
            "positions: 38 multiples: 76\n",
            "positions: 39 multiples: 78\n",
            "positions: 40 multiples: 80\n",
            "positions: 41 multiples: 82\n",
            "positions: 42 multiples: 84\n",
            "positions: 43 multiples: 86\n",
            "positions: 44 multiples: 88\n",
            "positions: 45 multiples: 90\n",
            "positions: 46 multiples: 92\n",
            "positions: 47 multiples: 94\n",
            "positions: 48 multiples: 96\n",
            "positions: 49 multiples: 98\n",
            "positions: 50 multiples: 100\n",
            "positions: 51 multiples: 102\n",
            "positions: 52 multiples: 104\n",
            "positions: 53 multiples: 106\n",
            "positions: 54 multiples: 108\n",
            "positions: 55 multiples: 110\n",
            "positions: 56 multiples: 112\n",
            "positions: 57 multiples: 114\n",
            "positions: 58 multiples: 116\n",
            "positions: 59 multiples: 118\n",
            "positions: 60 multiples: 120\n",
            "positions: 61 multiples: 122\n",
            "positions: 62 multiples: 124\n",
            "positions: 63 multiples: 126\n",
            "positions: 64 multiples: 128\n",
            "positions: 65 multiples: 130\n",
            "positions: 66 multiples: 132\n",
            "positions: 67 multiples: 134\n",
            "positions: 68 multiples: 136\n",
            "positions: 69 multiples: 138\n",
            "positions: 70 multiples: 140\n",
            "positions: 71 multiples: 142\n",
            "positions: 72 multiples: 144\n",
            "positions: 73 multiples: 146\n",
            "positions: 74 multiples: 148\n",
            "positions: 75 multiples: 150\n",
            "positions: 76 multiples: 152\n",
            "positions: 77 multiples: 154\n",
            "positions: 78 multiples: 156\n",
            "positions: 79 multiples: 158\n",
            "positions: 80 multiples: 160\n",
            "positions: 81 multiples: 162\n",
            "positions: 82 multiples: 164\n",
            "positions: 83 multiples: 166\n",
            "positions: 84 multiples: 168\n",
            "positions: 85 multiples: 170\n",
            "positions: 86 multiples: 172\n",
            "positions: 87 multiples: 174\n",
            "positions: 88 multiples: 176\n",
            "positions: 89 multiples: 178\n",
            "positions: 90 multiples: 180\n",
            "positions: 91 multiples: 182\n",
            "positions: 92 multiples: 184\n",
            "positions: 93 multiples: 186\n",
            "positions: 94 multiples: 188\n",
            "positions: 95 multiples: 190\n",
            "positions: 96 multiples: 192\n",
            "positions: 97 multiples: 194\n",
            "positions: 98 multiples: 196\n",
            "positions: 99 multiples: 198\n",
            "positions: 100 multiples: 200\n"
          ]
        }
      ]
    },
    {
      "cell_type": "markdown",
      "source": [
        "# 4.Naming \n",
        "\n"
      ],
      "metadata": {
        "id": "iSVD-sg1JGqV"
      }
    },
    {
      "cell_type": "markdown",
      "source": [
        "## 4.1. Conditions and restrictions \n",
        "\n",
        "the names must have only alphanumeric characters \n",
        "\n",
        "( from '0 to 1'.'a to z', 'A to Z' **and underscore' _'**\n",
        "\n",
        "**WARMING**\n",
        "The variable never begin with  a number "
      ],
      "metadata": {
        "id": "iJ2VQLgtJSPs"
      }
    },
    {
      "cell_type": "code",
      "source": [
        "#Example\n",
        "My_age = 21\n",
        "person1= 'me'"
      ],
      "metadata": {
        "id": "9AuHM2TEKCKN"
      },
      "execution_count": 2,
      "outputs": []
    },
    {
      "cell_type": "code",
      "source": [
        "#21q = 22 its bad because begin with a number "
      ],
      "metadata": {
        "id": "3Kg43m5CKay9"
      },
      "execution_count": null,
      "outputs": []
    },
    {
      "cell_type": "markdown",
      "source": [
        "## 4.2. Best Practices\n",
        "\n",
        "*Variables are case sentitive: "
      ],
      "metadata": {
        "id": "5ThMqcZNKkYk"
      }
    },
    {
      "cell_type": "code",
      "source": [
        "# Example \n",
        "\n",
        "age = 12\n",
        "Age = 13\n",
        "AGE = 14\n",
        "\n",
        "# A little change is a diferent variable is a diferent"
      ],
      "metadata": {
        "id": "ojfhELqOK40c"
      },
      "execution_count": 3,
      "outputs": []
    },
    {
      "cell_type": "markdown",
      "source": [
        "The best practice in Python is to used lower case (letras minusculas)"
      ],
      "metadata": {
        "id": "oFCgXNC4LQ0t"
      }
    },
    {
      "cell_type": "markdown",
      "source": [
        "* Composite names "
      ],
      "metadata": {
        "id": "cTefPQGYLhB9"
      }
    },
    {
      "cell_type": "code",
      "source": [
        "# example \n",
        "book_price = 100\n",
        "book_quant = 20"
      ],
      "metadata": {
        "id": "i20GYLtmLpdc"
      },
      "execution_count": 4,
      "outputs": []
    },
    {
      "cell_type": "markdown",
      "source": [
        "* Use meaninful names \n",
        "\n",
        "Names should tell you something, Because its more crearly \n"
      ],
      "metadata": {
        "id": "i69XkqE3MFal"
      }
    },
    {
      "cell_type": "markdown",
      "source": [
        "# 5.Data types \n",
        "\n"
      ],
      "metadata": {
        "id": "zLAmkCwXMiYN"
      }
    },
    {
      "cell_type": "markdown",
      "source": [
        "# 5.1. Integers"
      ],
      "metadata": {
        "id": "4ab2AZAlMoHV"
      }
    },
    {
      "cell_type": "code",
      "source": [
        "book_price = 100\n",
        "print(type(book_price))"
      ],
      "metadata": {
        "colab": {
          "base_uri": "https://localhost:8080/"
        },
        "id": "fGfFM5cCM711",
        "outputId": "309b9e92-5e89-434f-dd87-6719a982882c"
      },
      "execution_count": 6,
      "outputs": [
        {
          "output_type": "stream",
          "name": "stdout",
          "text": [
            "<class 'int'>\n"
          ]
        }
      ]
    },
    {
      "cell_type": "code",
      "source": [
        "cell_price = 25.5\n",
        "print(type(cell_price))"
      ],
      "metadata": {
        "colab": {
          "base_uri": "https://localhost:8080/"
        },
        "id": "4sao6vvhNFJ1",
        "outputId": "a53e8d22-c267-426f-f57c-7e22f4ed8af4"
      },
      "execution_count": 8,
      "outputs": [
        {
          "output_type": "stream",
          "name": "stdout",
          "text": [
            "<class 'float'>\n"
          ]
        }
      ]
    },
    {
      "cell_type": "markdown",
      "source": [
        "# Phyton as a calculator \n",
        "\n"
      ],
      "metadata": {
        "id": "w1khtw5RNZz7"
      }
    },
    {
      "cell_type": "code",
      "source": [
        "# Example \n",
        "\n",
        "x = 3\n",
        "y = 4\n",
        "z = 5\n",
        "print('x + y =', x + y )\n",
        "print('x * y =', x + z )"
      ],
      "metadata": {
        "colab": {
          "base_uri": "https://localhost:8080/"
        },
        "id": "n_o1sKkRNiRL",
        "outputId": "626d12cc-1995-454a-8ec5-af1ef3ca7ce7"
      },
      "execution_count": 10,
      "outputs": [
        {
          "output_type": "stream",
          "name": "stdout",
          "text": [
            "x + y = 7\n",
            "x * y = 8\n"
          ]
        }
      ]
    },
    {
      "cell_type": "markdown",
      "source": [
        "Let´s try a **nice trick**"
      ],
      "metadata": {
        "id": "YbL5X5qWN5VS"
      }
    },
    {
      "cell_type": "code",
      "source": [
        "# Nice trick \n",
        "\n",
        "w = 0 "
      ],
      "metadata": {
        "id": "kcoq_puVN9_B"
      },
      "execution_count": 28,
      "outputs": []
    },
    {
      "cell_type": "code",
      "source": [
        "# Nice trick \n",
        "\n",
        "w +=2\n",
        "print(w)\n",
        "\n",
        "# its 0+2 repeat diferents times "
      ],
      "metadata": {
        "colab": {
          "base_uri": "https://localhost:8080/"
        },
        "id": "DIBk0J0HOH_Z",
        "outputId": "2c1a6bcb-7190-4bdb-bcd2-30d3ddef3a1e"
      },
      "execution_count": 32,
      "outputs": [
        {
          "output_type": "stream",
          "name": "stdout",
          "text": [
            "8\n"
          ]
        }
      ]
    },
    {
      "cell_type": "markdown",
      "source": [
        "## 5.3 Booleans \n",
        "\n",
        "there are variables with values of true or false"
      ],
      "metadata": {
        "id": "MCmpVVO8PD0m"
      }
    },
    {
      "cell_type": "code",
      "source": [
        "# Example \n",
        "\n",
        "is_sunny = True\n",
        "print(type(is_sunny))"
      ],
      "metadata": {
        "colab": {
          "base_uri": "https://localhost:8080/"
        },
        "id": "Y-pxKXODPgpm",
        "outputId": "9ca4994a-eb96-47c2-e6fa-9488dd7d2b1c"
      },
      "execution_count": 36,
      "outputs": [
        {
          "output_type": "stream",
          "name": "stdout",
          "text": [
            "<class 'bool'>\n"
          ]
        }
      ]
    },
    {
      "cell_type": "code",
      "source": [
        ""
      ],
      "metadata": {
        "id": "mCb7roVGP4Ny"
      },
      "execution_count": null,
      "outputs": []
    },
    {
      "cell_type": "markdown",
      "source": [
        "More important are **boleans expressions**\n"
      ],
      "metadata": {
        "id": "oSMYmKXkP8TD"
      }
    },
    {
      "cell_type": "code",
      "source": [
        "# Example \n",
        "x = 2\n",
        "y = 3 \n",
        "\n",
        "print('is x equal to y?', x == y)\n",
        "print('is x NOT equal to y?', x != y)\n",
        "print('is x greater than y?', x > y)\n",
        "print('is x less than y?', x < y) \n"
      ],
      "metadata": {
        "colab": {
          "base_uri": "https://localhost:8080/"
        },
        "id": "7yjcOqBUQF4G",
        "outputId": "8102b7dd-79b6-429a-e1d7-4ec23048f562"
      },
      "execution_count": 37,
      "outputs": [
        {
          "output_type": "stream",
          "name": "stdout",
          "text": [
            "is x equual to y? False\n",
            "is x NOT equual to y? True\n",
            "is x greater than y? False\n",
            "is x less than y? True\n"
          ]
        }
      ]
    },
    {
      "cell_type": "code",
      "source": [
        "# practice - hard mode \n",
        "\n",
        "# Using loops, you are going to evatuale the boleans expressions b-e\n",
        "#  x + y \n",
        "#  for x = 1,2,3.... 10\n",
        "#  for y = 11,12,13....,20"
      ],
      "metadata": {
        "id": "9po7YPISQ-BH"
      },
      "execution_count": null,
      "outputs": []
    },
    {
      "cell_type": "code",
      "source": [
        "# A solution \n",
        "print('is x + y > x * y ?')\n",
        "for x in range(1,11):\n",
        "  for y in range(11,21):\n",
        "    print('is', x , '+' , y , '>', x , '*', y , '?', x + y > x * y)"
      ],
      "metadata": {
        "colab": {
          "base_uri": "https://localhost:8080/"
        },
        "id": "6ekz-yzFWIxA",
        "outputId": "da8adcd4-8252-4cd2-87a7-830ee04c11e8"
      },
      "execution_count": 52,
      "outputs": [
        {
          "output_type": "stream",
          "name": "stdout",
          "text": [
            "is x + y > x * y ?\n",
            "is 1 + 11 > 1 * 11 ? True\n",
            "is 1 + 12 > 1 * 12 ? True\n",
            "is 1 + 13 > 1 * 13 ? True\n",
            "is 1 + 14 > 1 * 14 ? True\n",
            "is 1 + 15 > 1 * 15 ? True\n",
            "is 1 + 16 > 1 * 16 ? True\n",
            "is 1 + 17 > 1 * 17 ? True\n",
            "is 1 + 18 > 1 * 18 ? True\n",
            "is 1 + 19 > 1 * 19 ? True\n",
            "is 1 + 20 > 1 * 20 ? True\n",
            "is 2 + 11 > 2 * 11 ? False\n",
            "is 2 + 12 > 2 * 12 ? False\n",
            "is 2 + 13 > 2 * 13 ? False\n",
            "is 2 + 14 > 2 * 14 ? False\n",
            "is 2 + 15 > 2 * 15 ? False\n",
            "is 2 + 16 > 2 * 16 ? False\n",
            "is 2 + 17 > 2 * 17 ? False\n",
            "is 2 + 18 > 2 * 18 ? False\n",
            "is 2 + 19 > 2 * 19 ? False\n",
            "is 2 + 20 > 2 * 20 ? False\n",
            "is 3 + 11 > 3 * 11 ? False\n",
            "is 3 + 12 > 3 * 12 ? False\n",
            "is 3 + 13 > 3 * 13 ? False\n",
            "is 3 + 14 > 3 * 14 ? False\n",
            "is 3 + 15 > 3 * 15 ? False\n",
            "is 3 + 16 > 3 * 16 ? False\n",
            "is 3 + 17 > 3 * 17 ? False\n",
            "is 3 + 18 > 3 * 18 ? False\n",
            "is 3 + 19 > 3 * 19 ? False\n",
            "is 3 + 20 > 3 * 20 ? False\n",
            "is 4 + 11 > 4 * 11 ? False\n",
            "is 4 + 12 > 4 * 12 ? False\n",
            "is 4 + 13 > 4 * 13 ? False\n",
            "is 4 + 14 > 4 * 14 ? False\n",
            "is 4 + 15 > 4 * 15 ? False\n",
            "is 4 + 16 > 4 * 16 ? False\n",
            "is 4 + 17 > 4 * 17 ? False\n",
            "is 4 + 18 > 4 * 18 ? False\n",
            "is 4 + 19 > 4 * 19 ? False\n",
            "is 4 + 20 > 4 * 20 ? False\n",
            "is 5 + 11 > 5 * 11 ? False\n",
            "is 5 + 12 > 5 * 12 ? False\n",
            "is 5 + 13 > 5 * 13 ? False\n",
            "is 5 + 14 > 5 * 14 ? False\n",
            "is 5 + 15 > 5 * 15 ? False\n",
            "is 5 + 16 > 5 * 16 ? False\n",
            "is 5 + 17 > 5 * 17 ? False\n",
            "is 5 + 18 > 5 * 18 ? False\n",
            "is 5 + 19 > 5 * 19 ? False\n",
            "is 5 + 20 > 5 * 20 ? False\n",
            "is 6 + 11 > 6 * 11 ? False\n",
            "is 6 + 12 > 6 * 12 ? False\n",
            "is 6 + 13 > 6 * 13 ? False\n",
            "is 6 + 14 > 6 * 14 ? False\n",
            "is 6 + 15 > 6 * 15 ? False\n",
            "is 6 + 16 > 6 * 16 ? False\n",
            "is 6 + 17 > 6 * 17 ? False\n",
            "is 6 + 18 > 6 * 18 ? False\n",
            "is 6 + 19 > 6 * 19 ? False\n",
            "is 6 + 20 > 6 * 20 ? False\n",
            "is 7 + 11 > 7 * 11 ? False\n",
            "is 7 + 12 > 7 * 12 ? False\n",
            "is 7 + 13 > 7 * 13 ? False\n",
            "is 7 + 14 > 7 * 14 ? False\n",
            "is 7 + 15 > 7 * 15 ? False\n",
            "is 7 + 16 > 7 * 16 ? False\n",
            "is 7 + 17 > 7 * 17 ? False\n",
            "is 7 + 18 > 7 * 18 ? False\n",
            "is 7 + 19 > 7 * 19 ? False\n",
            "is 7 + 20 > 7 * 20 ? False\n",
            "is 8 + 11 > 8 * 11 ? False\n",
            "is 8 + 12 > 8 * 12 ? False\n",
            "is 8 + 13 > 8 * 13 ? False\n",
            "is 8 + 14 > 8 * 14 ? False\n",
            "is 8 + 15 > 8 * 15 ? False\n",
            "is 8 + 16 > 8 * 16 ? False\n",
            "is 8 + 17 > 8 * 17 ? False\n",
            "is 8 + 18 > 8 * 18 ? False\n",
            "is 8 + 19 > 8 * 19 ? False\n",
            "is 8 + 20 > 8 * 20 ? False\n",
            "is 9 + 11 > 9 * 11 ? False\n",
            "is 9 + 12 > 9 * 12 ? False\n",
            "is 9 + 13 > 9 * 13 ? False\n",
            "is 9 + 14 > 9 * 14 ? False\n",
            "is 9 + 15 > 9 * 15 ? False\n",
            "is 9 + 16 > 9 * 16 ? False\n",
            "is 9 + 17 > 9 * 17 ? False\n",
            "is 9 + 18 > 9 * 18 ? False\n",
            "is 9 + 19 > 9 * 19 ? False\n",
            "is 9 + 20 > 9 * 20 ? False\n",
            "is 10 + 11 > 10 * 11 ? False\n",
            "is 10 + 12 > 10 * 12 ? False\n",
            "is 10 + 13 > 10 * 13 ? False\n",
            "is 10 + 14 > 10 * 14 ? False\n",
            "is 10 + 15 > 10 * 15 ? False\n",
            "is 10 + 16 > 10 * 16 ? False\n",
            "is 10 + 17 > 10 * 17 ? False\n",
            "is 10 + 18 > 10 * 18 ? False\n",
            "is 10 + 19 > 10 * 19 ? False\n",
            "is 10 + 20 > 10 * 20 ? False\n"
          ]
        }
      ]
    },
    {
      "cell_type": "code",
      "source": [
        "# tables of the multiplications 1 for 9\n",
        "\n",
        "for x in range(1,9):\n",
        "  print('Table of', x, ':')\n",
        "  for y in range(1,9):\n",
        "    print( x, '*', y ,'=', x*y)"
      ],
      "metadata": {
        "colab": {
          "base_uri": "https://localhost:8080/"
        },
        "id": "mc2_4_YuYlty",
        "outputId": "1e2ef949-35ec-4ad3-8cb7-ed8da9fe1b61"
      },
      "execution_count": 66,
      "outputs": [
        {
          "output_type": "stream",
          "name": "stdout",
          "text": [
            "Table of 1 :\n",
            "1 * 1 = 1\n",
            "1 * 2 = 2\n",
            "1 * 3 = 3\n",
            "1 * 4 = 4\n",
            "1 * 5 = 5\n",
            "1 * 6 = 6\n",
            "1 * 7 = 7\n",
            "1 * 8 = 8\n",
            "Table of 2 :\n",
            "2 * 1 = 2\n",
            "2 * 2 = 4\n",
            "2 * 3 = 6\n",
            "2 * 4 = 8\n",
            "2 * 5 = 10\n",
            "2 * 6 = 12\n",
            "2 * 7 = 14\n",
            "2 * 8 = 16\n",
            "Table of 3 :\n",
            "3 * 1 = 3\n",
            "3 * 2 = 6\n",
            "3 * 3 = 9\n",
            "3 * 4 = 12\n",
            "3 * 5 = 15\n",
            "3 * 6 = 18\n",
            "3 * 7 = 21\n",
            "3 * 8 = 24\n",
            "Table of 4 :\n",
            "4 * 1 = 4\n",
            "4 * 2 = 8\n",
            "4 * 3 = 12\n",
            "4 * 4 = 16\n",
            "4 * 5 = 20\n",
            "4 * 6 = 24\n",
            "4 * 7 = 28\n",
            "4 * 8 = 32\n",
            "Table of 5 :\n",
            "5 * 1 = 5\n",
            "5 * 2 = 10\n",
            "5 * 3 = 15\n",
            "5 * 4 = 20\n",
            "5 * 5 = 25\n",
            "5 * 6 = 30\n",
            "5 * 7 = 35\n",
            "5 * 8 = 40\n",
            "Table of 6 :\n",
            "6 * 1 = 6\n",
            "6 * 2 = 12\n",
            "6 * 3 = 18\n",
            "6 * 4 = 24\n",
            "6 * 5 = 30\n",
            "6 * 6 = 36\n",
            "6 * 7 = 42\n",
            "6 * 8 = 48\n",
            "Table of 7 :\n",
            "7 * 1 = 7\n",
            "7 * 2 = 14\n",
            "7 * 3 = 21\n",
            "7 * 4 = 28\n",
            "7 * 5 = 35\n",
            "7 * 6 = 42\n",
            "7 * 7 = 49\n",
            "7 * 8 = 56\n",
            "Table of 8 :\n",
            "8 * 1 = 8\n",
            "8 * 2 = 16\n",
            "8 * 3 = 24\n",
            "8 * 4 = 32\n",
            "8 * 5 = 40\n",
            "8 * 6 = 48\n",
            "8 * 7 = 56\n",
            "8 * 8 = 64\n"
          ]
        }
      ]
    }
  ]
}